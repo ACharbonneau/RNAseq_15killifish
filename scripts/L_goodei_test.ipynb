{
 "cells": [
  {
   "cell_type": "code",
   "execution_count": 1,
   "metadata": {
    "collapsed": true
   },
   "outputs": [],
   "source": [
    "import os\n",
    "import pandas as pd\n",
    "# requires dammit env\n",
    "# source activate dammit\n",
    "from dammit.fileio.gff3 import GFF3Parser"
   ]
  },
  {
   "cell_type": "markdown",
   "metadata": {},
   "source": [
    "# All contigs quantified by salmon"
   ]
  },
  {
   "cell_type": "code",
   "execution_count": 4,
   "metadata": {},
   "outputs": [
    {
     "data": {
      "text/html": [
       "<div>\n",
       "<style scoped>\n",
       "    .dataframe tbody tr th:only-of-type {\n",
       "        vertical-align: middle;\n",
       "    }\n",
       "\n",
       "    .dataframe tbody tr th {\n",
       "        vertical-align: top;\n",
       "    }\n",
       "\n",
       "    .dataframe thead th {\n",
       "        text-align: right;\n",
       "    }\n",
       "</style>\n",
       "<table border=\"1\" class=\"dataframe\">\n",
       "  <thead>\n",
       "    <tr style=\"text-align: right;\">\n",
       "      <th></th>\n",
       "      <th>Name</th>\n",
       "      <th>Length</th>\n",
       "      <th>EffectiveLength</th>\n",
       "      <th>TPM</th>\n",
       "      <th>NumReads</th>\n",
       "    </tr>\n",
       "  </thead>\n",
       "  <tbody>\n",
       "    <tr>\n",
       "      <th>0</th>\n",
       "      <td>TRINITY_DN2202_c0_g1_i1</td>\n",
       "      <td>278</td>\n",
       "      <td>70.590</td>\n",
       "      <td>0.000000</td>\n",
       "      <td>0.000000</td>\n",
       "    </tr>\n",
       "    <tr>\n",
       "      <th>1</th>\n",
       "      <td>TRINITY_DN2202_c1_g1_i1</td>\n",
       "      <td>290</td>\n",
       "      <td>78.150</td>\n",
       "      <td>1.087338</td>\n",
       "      <td>1.000000</td>\n",
       "    </tr>\n",
       "    <tr>\n",
       "      <th>2</th>\n",
       "      <td>TRINITY_DN2271_c0_g1_i1</td>\n",
       "      <td>305</td>\n",
       "      <td>88.409</td>\n",
       "      <td>0.000000</td>\n",
       "      <td>0.000000</td>\n",
       "    </tr>\n",
       "    <tr>\n",
       "      <th>3</th>\n",
       "      <td>TRINITY_DN2271_c1_g1_i1</td>\n",
       "      <td>525</td>\n",
       "      <td>279.936</td>\n",
       "      <td>0.000000</td>\n",
       "      <td>0.000000</td>\n",
       "    </tr>\n",
       "    <tr>\n",
       "      <th>4</th>\n",
       "      <td>TRINITY_DN2268_c0_g1_i1</td>\n",
       "      <td>272</td>\n",
       "      <td>66.900</td>\n",
       "      <td>1.347844</td>\n",
       "      <td>1.061129</td>\n",
       "    </tr>\n",
       "  </tbody>\n",
       "</table>\n",
       "</div>"
      ],
      "text/plain": [
       "                      Name  Length  EffectiveLength       TPM  NumReads\n",
       "0  TRINITY_DN2202_c0_g1_i1     278           70.590  0.000000  0.000000\n",
       "1  TRINITY_DN2202_c1_g1_i1     290           78.150  1.087338  1.000000\n",
       "2  TRINITY_DN2271_c0_g1_i1     305           88.409  0.000000  0.000000\n",
       "3  TRINITY_DN2271_c1_g1_i1     525          279.936  0.000000  0.000000\n",
       "4  TRINITY_DN2268_c0_g1_i1     272           66.900  1.347844  1.061129"
      ]
     },
     "execution_count": 4,
     "metadata": {},
     "output_type": "execute_result"
    }
   ],
   "source": [
    "table = pd.read_csv(\"/Users/johnsolk/Documents/UCDavis/Whitehead/RNAseq_15killifish/salmon_denovo_by_species/L_goodei/L_goodei_transfer_2.quant/quant.sf\",sep=\"\\t\")\n",
    "table.head()"
   ]
  },
  {
   "cell_type": "code",
   "execution_count": 5,
   "metadata": {},
   "outputs": [
    {
     "data": {
      "text/plain": [
       "(385474, 5)"
      ]
     },
     "execution_count": 5,
     "metadata": {},
     "output_type": "execute_result"
    }
   ],
   "source": [
    "table.shape"
   ]
  },
  {
   "cell_type": "code",
   "execution_count": 20,
   "metadata": {},
   "outputs": [],
   "source": [
    "contig_names = pd.DataFrame(table.Name.str.split(\"_\",5).tolist(),columns = ['Trinity','Contig','Component','Gene','Isoform'])"
   ]
  },
  {
   "cell_type": "code",
   "execution_count": 21,
   "metadata": {},
   "outputs": [
    {
     "data": {
      "text/html": [
       "<div>\n",
       "<style scoped>\n",
       "    .dataframe tbody tr th:only-of-type {\n",
       "        vertical-align: middle;\n",
       "    }\n",
       "\n",
       "    .dataframe tbody tr th {\n",
       "        vertical-align: top;\n",
       "    }\n",
       "\n",
       "    .dataframe thead th {\n",
       "        text-align: right;\n",
       "    }\n",
       "</style>\n",
       "<table border=\"1\" class=\"dataframe\">\n",
       "  <thead>\n",
       "    <tr style=\"text-align: right;\">\n",
       "      <th></th>\n",
       "      <th>Trinity</th>\n",
       "      <th>Contig</th>\n",
       "      <th>Component</th>\n",
       "      <th>Gene</th>\n",
       "      <th>Isoform</th>\n",
       "    </tr>\n",
       "  </thead>\n",
       "  <tbody>\n",
       "    <tr>\n",
       "      <th>0</th>\n",
       "      <td>TRINITY</td>\n",
       "      <td>DN2202</td>\n",
       "      <td>c0</td>\n",
       "      <td>g1</td>\n",
       "      <td>i1</td>\n",
       "    </tr>\n",
       "    <tr>\n",
       "      <th>1</th>\n",
       "      <td>TRINITY</td>\n",
       "      <td>DN2202</td>\n",
       "      <td>c1</td>\n",
       "      <td>g1</td>\n",
       "      <td>i1</td>\n",
       "    </tr>\n",
       "    <tr>\n",
       "      <th>2</th>\n",
       "      <td>TRINITY</td>\n",
       "      <td>DN2271</td>\n",
       "      <td>c0</td>\n",
       "      <td>g1</td>\n",
       "      <td>i1</td>\n",
       "    </tr>\n",
       "    <tr>\n",
       "      <th>3</th>\n",
       "      <td>TRINITY</td>\n",
       "      <td>DN2271</td>\n",
       "      <td>c1</td>\n",
       "      <td>g1</td>\n",
       "      <td>i1</td>\n",
       "    </tr>\n",
       "    <tr>\n",
       "      <th>4</th>\n",
       "      <td>TRINITY</td>\n",
       "      <td>DN2268</td>\n",
       "      <td>c0</td>\n",
       "      <td>g1</td>\n",
       "      <td>i1</td>\n",
       "    </tr>\n",
       "  </tbody>\n",
       "</table>\n",
       "</div>"
      ],
      "text/plain": [
       "   Trinity  Contig Component Gene Isoform\n",
       "0  TRINITY  DN2202        c0   g1      i1\n",
       "1  TRINITY  DN2202        c1   g1      i1\n",
       "2  TRINITY  DN2271        c0   g1      i1\n",
       "3  TRINITY  DN2271        c1   g1      i1\n",
       "4  TRINITY  DN2268        c0   g1      i1"
      ]
     },
     "execution_count": 21,
     "metadata": {},
     "output_type": "execute_result"
    }
   ],
   "source": [
    "contig_names.head()"
   ]
  },
  {
   "cell_type": "code",
   "execution_count": 42,
   "metadata": {},
   "outputs": [],
   "source": [
    "contig_names2 = pd.DataFrame()\n",
    "contig_names2['Name'] = contig_names[['Trinity','Contig','Component','Gene','Isoform']].apply(lambda x: '_'.join(x),axis=1)"
   ]
  },
  {
   "cell_type": "code",
   "execution_count": 43,
   "metadata": {
    "collapsed": true
   },
   "outputs": [],
   "source": [
    "contig_names2['Gene'] = contig_names[['Trinity','Contig','Component','Gene']].apply(lambda x: '_'.join(x),axis=1)"
   ]
  },
  {
   "cell_type": "code",
   "execution_count": 44,
   "metadata": {},
   "outputs": [
    {
     "data": {
      "text/html": [
       "<div>\n",
       "<style scoped>\n",
       "    .dataframe tbody tr th:only-of-type {\n",
       "        vertical-align: middle;\n",
       "    }\n",
       "\n",
       "    .dataframe tbody tr th {\n",
       "        vertical-align: top;\n",
       "    }\n",
       "\n",
       "    .dataframe thead th {\n",
       "        text-align: right;\n",
       "    }\n",
       "</style>\n",
       "<table border=\"1\" class=\"dataframe\">\n",
       "  <thead>\n",
       "    <tr style=\"text-align: right;\">\n",
       "      <th></th>\n",
       "      <th>Name</th>\n",
       "      <th>Gene</th>\n",
       "    </tr>\n",
       "  </thead>\n",
       "  <tbody>\n",
       "    <tr>\n",
       "      <th>0</th>\n",
       "      <td>TRINITY_DN2202_c0_g1_i1</td>\n",
       "      <td>TRINITY_DN2202_c0_g1</td>\n",
       "    </tr>\n",
       "    <tr>\n",
       "      <th>1</th>\n",
       "      <td>TRINITY_DN2202_c1_g1_i1</td>\n",
       "      <td>TRINITY_DN2202_c1_g1</td>\n",
       "    </tr>\n",
       "    <tr>\n",
       "      <th>2</th>\n",
       "      <td>TRINITY_DN2271_c0_g1_i1</td>\n",
       "      <td>TRINITY_DN2271_c0_g1</td>\n",
       "    </tr>\n",
       "    <tr>\n",
       "      <th>3</th>\n",
       "      <td>TRINITY_DN2271_c1_g1_i1</td>\n",
       "      <td>TRINITY_DN2271_c1_g1</td>\n",
       "    </tr>\n",
       "    <tr>\n",
       "      <th>4</th>\n",
       "      <td>TRINITY_DN2268_c0_g1_i1</td>\n",
       "      <td>TRINITY_DN2268_c0_g1</td>\n",
       "    </tr>\n",
       "  </tbody>\n",
       "</table>\n",
       "</div>"
      ],
      "text/plain": [
       "                      Name                  Gene\n",
       "0  TRINITY_DN2202_c0_g1_i1  TRINITY_DN2202_c0_g1\n",
       "1  TRINITY_DN2202_c1_g1_i1  TRINITY_DN2202_c1_g1\n",
       "2  TRINITY_DN2271_c0_g1_i1  TRINITY_DN2271_c0_g1\n",
       "3  TRINITY_DN2271_c1_g1_i1  TRINITY_DN2271_c1_g1\n",
       "4  TRINITY_DN2268_c0_g1_i1  TRINITY_DN2268_c0_g1"
      ]
     },
     "execution_count": 44,
     "metadata": {},
     "output_type": "execute_result"
    }
   ],
   "source": [
    "contig_names2.head()"
   ]
  },
  {
   "cell_type": "code",
   "execution_count": 45,
   "metadata": {},
   "outputs": [
    {
     "data": {
      "text/plain": [
       "(385474, 2)"
      ]
     },
     "execution_count": 45,
     "metadata": {},
     "output_type": "execute_result"
    }
   ],
   "source": [
    "contig_names2.shape"
   ]
  },
  {
   "cell_type": "markdown",
   "metadata": {},
   "source": [
    "# Trinity \"genes\""
   ]
  },
  {
   "cell_type": "code",
   "execution_count": 46,
   "metadata": {},
   "outputs": [
    {
     "data": {
      "text/plain": [
       "266317"
      ]
     },
     "execution_count": 46,
     "metadata": {},
     "output_type": "execute_result"
    }
   ],
   "source": [
    "contig_names2['Gene'].nunique()"
   ]
  },
  {
   "cell_type": "code",
   "execution_count": 48,
   "metadata": {},
   "outputs": [],
   "source": [
    "table_2 = pd.merge(table,contig_names2,on='Name')"
   ]
  },
  {
   "cell_type": "code",
   "execution_count": 49,
   "metadata": {},
   "outputs": [
    {
     "data": {
      "text/plain": [
       "(385474, 6)"
      ]
     },
     "execution_count": 49,
     "metadata": {},
     "output_type": "execute_result"
    }
   ],
   "source": [
    "table_2.shape"
   ]
  },
  {
   "cell_type": "code",
   "execution_count": 50,
   "metadata": {},
   "outputs": [
    {
     "data": {
      "text/html": [
       "<div>\n",
       "<style scoped>\n",
       "    .dataframe tbody tr th:only-of-type {\n",
       "        vertical-align: middle;\n",
       "    }\n",
       "\n",
       "    .dataframe tbody tr th {\n",
       "        vertical-align: top;\n",
       "    }\n",
       "\n",
       "    .dataframe thead th {\n",
       "        text-align: right;\n",
       "    }\n",
       "</style>\n",
       "<table border=\"1\" class=\"dataframe\">\n",
       "  <thead>\n",
       "    <tr style=\"text-align: right;\">\n",
       "      <th></th>\n",
       "      <th>Name</th>\n",
       "      <th>Length</th>\n",
       "      <th>EffectiveLength</th>\n",
       "      <th>TPM</th>\n",
       "      <th>NumReads</th>\n",
       "      <th>Gene</th>\n",
       "    </tr>\n",
       "  </thead>\n",
       "  <tbody>\n",
       "    <tr>\n",
       "      <th>0</th>\n",
       "      <td>TRINITY_DN2202_c0_g1_i1</td>\n",
       "      <td>278</td>\n",
       "      <td>70.590</td>\n",
       "      <td>0.000000</td>\n",
       "      <td>0.000000</td>\n",
       "      <td>TRINITY_DN2202_c0_g1</td>\n",
       "    </tr>\n",
       "    <tr>\n",
       "      <th>1</th>\n",
       "      <td>TRINITY_DN2202_c1_g1_i1</td>\n",
       "      <td>290</td>\n",
       "      <td>78.150</td>\n",
       "      <td>1.087338</td>\n",
       "      <td>1.000000</td>\n",
       "      <td>TRINITY_DN2202_c1_g1</td>\n",
       "    </tr>\n",
       "    <tr>\n",
       "      <th>2</th>\n",
       "      <td>TRINITY_DN2271_c0_g1_i1</td>\n",
       "      <td>305</td>\n",
       "      <td>88.409</td>\n",
       "      <td>0.000000</td>\n",
       "      <td>0.000000</td>\n",
       "      <td>TRINITY_DN2271_c0_g1</td>\n",
       "    </tr>\n",
       "    <tr>\n",
       "      <th>3</th>\n",
       "      <td>TRINITY_DN2271_c1_g1_i1</td>\n",
       "      <td>525</td>\n",
       "      <td>279.936</td>\n",
       "      <td>0.000000</td>\n",
       "      <td>0.000000</td>\n",
       "      <td>TRINITY_DN2271_c1_g1</td>\n",
       "    </tr>\n",
       "    <tr>\n",
       "      <th>4</th>\n",
       "      <td>TRINITY_DN2268_c0_g1_i1</td>\n",
       "      <td>272</td>\n",
       "      <td>66.900</td>\n",
       "      <td>1.347844</td>\n",
       "      <td>1.061129</td>\n",
       "      <td>TRINITY_DN2268_c0_g1</td>\n",
       "    </tr>\n",
       "  </tbody>\n",
       "</table>\n",
       "</div>"
      ],
      "text/plain": [
       "                      Name  Length  EffectiveLength       TPM  NumReads  \\\n",
       "0  TRINITY_DN2202_c0_g1_i1     278           70.590  0.000000  0.000000   \n",
       "1  TRINITY_DN2202_c1_g1_i1     290           78.150  1.087338  1.000000   \n",
       "2  TRINITY_DN2271_c0_g1_i1     305           88.409  0.000000  0.000000   \n",
       "3  TRINITY_DN2271_c1_g1_i1     525          279.936  0.000000  0.000000   \n",
       "4  TRINITY_DN2268_c0_g1_i1     272           66.900  1.347844  1.061129   \n",
       "\n",
       "                   Gene  \n",
       "0  TRINITY_DN2202_c0_g1  \n",
       "1  TRINITY_DN2202_c1_g1  \n",
       "2  TRINITY_DN2271_c0_g1  \n",
       "3  TRINITY_DN2271_c1_g1  \n",
       "4  TRINITY_DN2268_c0_g1  "
      ]
     },
     "execution_count": 50,
     "metadata": {},
     "output_type": "execute_result"
    }
   ],
   "source": [
    "table_2.head()"
   ]
  },
  {
   "cell_type": "markdown",
   "metadata": {},
   "source": [
    "# Removed contigs with no expression"
   ]
  },
  {
   "cell_type": "code",
   "execution_count": 68,
   "metadata": {
    "collapsed": true
   },
   "outputs": [],
   "source": [
    "table_filt = table_2.loc[table_2['NumReads'] > 0.0]"
   ]
  },
  {
   "cell_type": "code",
   "execution_count": 69,
   "metadata": {},
   "outputs": [
    {
     "data": {
      "text/plain": [
       "(202604, 6)"
      ]
     },
     "execution_count": 69,
     "metadata": {},
     "output_type": "execute_result"
    }
   ],
   "source": [
    "table_filt.shape"
   ]
  },
  {
   "cell_type": "code",
   "execution_count": 70,
   "metadata": {},
   "outputs": [
    {
     "data": {
      "text/html": [
       "<div>\n",
       "<style scoped>\n",
       "    .dataframe tbody tr th:only-of-type {\n",
       "        vertical-align: middle;\n",
       "    }\n",
       "\n",
       "    .dataframe tbody tr th {\n",
       "        vertical-align: top;\n",
       "    }\n",
       "\n",
       "    .dataframe thead th {\n",
       "        text-align: right;\n",
       "    }\n",
       "</style>\n",
       "<table border=\"1\" class=\"dataframe\">\n",
       "  <thead>\n",
       "    <tr style=\"text-align: right;\">\n",
       "      <th></th>\n",
       "      <th>Name</th>\n",
       "      <th>Length</th>\n",
       "      <th>EffectiveLength</th>\n",
       "      <th>TPM</th>\n",
       "      <th>NumReads</th>\n",
       "      <th>Gene</th>\n",
       "    </tr>\n",
       "  </thead>\n",
       "  <tbody>\n",
       "    <tr>\n",
       "      <th>1</th>\n",
       "      <td>TRINITY_DN2202_c1_g1_i1</td>\n",
       "      <td>290</td>\n",
       "      <td>78.150</td>\n",
       "      <td>1.087338</td>\n",
       "      <td>1.000000</td>\n",
       "      <td>TRINITY_DN2202_c1_g1</td>\n",
       "    </tr>\n",
       "    <tr>\n",
       "      <th>4</th>\n",
       "      <td>TRINITY_DN2268_c0_g1_i1</td>\n",
       "      <td>272</td>\n",
       "      <td>66.900</td>\n",
       "      <td>1.347844</td>\n",
       "      <td>1.061129</td>\n",
       "      <td>TRINITY_DN2268_c0_g1</td>\n",
       "    </tr>\n",
       "    <tr>\n",
       "      <th>5</th>\n",
       "      <td>TRINITY_DN2201_c0_g1_i1</td>\n",
       "      <td>211</td>\n",
       "      <td>38.753</td>\n",
       "      <td>2.192735</td>\n",
       "      <td>1.000000</td>\n",
       "      <td>TRINITY_DN2201_c0_g1</td>\n",
       "    </tr>\n",
       "    <tr>\n",
       "      <th>7</th>\n",
       "      <td>TRINITY_DN2275_c0_g1_i1</td>\n",
       "      <td>309</td>\n",
       "      <td>91.270</td>\n",
       "      <td>0.931033</td>\n",
       "      <td>1.000000</td>\n",
       "      <td>TRINITY_DN2275_c0_g1</td>\n",
       "    </tr>\n",
       "    <tr>\n",
       "      <th>9</th>\n",
       "      <td>TRINITY_DN2272_c0_g1_i1</td>\n",
       "      <td>374</td>\n",
       "      <td>142.516</td>\n",
       "      <td>0.596254</td>\n",
       "      <td>1.000000</td>\n",
       "      <td>TRINITY_DN2272_c0_g1</td>\n",
       "    </tr>\n",
       "  </tbody>\n",
       "</table>\n",
       "</div>"
      ],
      "text/plain": [
       "                      Name  Length  EffectiveLength       TPM  NumReads  \\\n",
       "1  TRINITY_DN2202_c1_g1_i1     290           78.150  1.087338  1.000000   \n",
       "4  TRINITY_DN2268_c0_g1_i1     272           66.900  1.347844  1.061129   \n",
       "5  TRINITY_DN2201_c0_g1_i1     211           38.753  2.192735  1.000000   \n",
       "7  TRINITY_DN2275_c0_g1_i1     309           91.270  0.931033  1.000000   \n",
       "9  TRINITY_DN2272_c0_g1_i1     374          142.516  0.596254  1.000000   \n",
       "\n",
       "                   Gene  \n",
       "1  TRINITY_DN2202_c1_g1  \n",
       "4  TRINITY_DN2268_c0_g1  \n",
       "5  TRINITY_DN2201_c0_g1  \n",
       "7  TRINITY_DN2275_c0_g1  \n",
       "9  TRINITY_DN2272_c0_g1  "
      ]
     },
     "execution_count": 70,
     "metadata": {},
     "output_type": "execute_result"
    }
   ],
   "source": [
    "table_filt.head()"
   ]
  },
  {
   "cell_type": "markdown",
   "metadata": {},
   "source": [
    "# Trinity \"genes\", contigs removed with no expression"
   ]
  },
  {
   "cell_type": "code",
   "execution_count": 71,
   "metadata": {},
   "outputs": [
    {
     "data": {
      "text/plain": [
       "142016"
      ]
     },
     "execution_count": 71,
     "metadata": {},
     "output_type": "execute_result"
    }
   ],
   "source": [
    "table_filt['Gene'].nunique()"
   ]
  },
  {
   "cell_type": "code",
   "execution_count": 72,
   "metadata": {
    "collapsed": true
   },
   "outputs": [],
   "source": [
    "name = \"/Users/johnsolk/Documents/UCDavis/Whitehead/gff_annotations/L_goodei.trinity_out.Trinity.fasta.dammit.gff3\"\n",
    "conversion = \"/Users/johnsolk/Documents/UCDavis/Whitehead/dammit_conversions/L_goodei.trinity_out.Trinity.fasta.dammit.namemap.csv\"\n",
    "Fhet_counts = \"/Users/johnsolk/Documents/UCDavis/Whitehead/Fhet_counts/L_goodei_genenames.csv\""
   ]
  },
  {
   "cell_type": "code",
   "execution_count": 73,
   "metadata": {},
   "outputs": [
    {
     "name": "stderr",
     "output_type": "stream",
     "text": [
      "/Users/johnsolk/anaconda3/lib/python3.6/site-packages/dammit/fileio/gff3.py:73: ParserWarning: Both a converter and dtype were specified for column attributes - only the converter will be used\n",
      "  dtype=dict(self.columns)):\n",
      "/Users/johnsolk/anaconda3/lib/python3.6/site-packages/dammit/fileio/gff3.py:73: ParserWarning: Both a converter and dtype were specified for column attributes - only the converter will be used\n",
      "  dtype=dict(self.columns)):\n"
     ]
    }
   ],
   "source": [
    "annotations = GFF3Parser(filename=name).read()\n",
    "annotations = annotations.dropna(subset=['Name'])"
   ]
  },
  {
   "cell_type": "code",
   "execution_count": 74,
   "metadata": {
    "collapsed": true
   },
   "outputs": [],
   "source": [
    "annotations[\"length\"] = annotations[\"end\"].subtract(annotations[\"start\"], fill_value=0)"
   ]
  },
  {
   "cell_type": "markdown",
   "metadata": {},
   "source": [
    "# Annotations in all contigs"
   ]
  },
  {
   "cell_type": "code",
   "execution_count": 75,
   "metadata": {},
   "outputs": [
    {
     "name": "stdout",
     "output_type": "stream",
     "text": [
      "Number of contigs with annotations (one annotation/contig, sorted by E-value < 1e-05 and picked the lowest):\n",
      "(138485, 8)\n"
     ]
    }
   ],
   "source": [
    "pickonename = annotations.sort_values(by=['seqid', 'score'], ascending=True).query('score < 1e-05').drop_duplicates(subset='seqid')[['seqid', 'Name','Note','database','Dbxref','start','end','length']]\n",
    "pickonename = pickonename.dropna(axis=0,how=\"all\")\n",
    "print('Number of contigs with annotations (one annotation/contig, sorted by E-value < 1e-05 and picked the lowest):')\n",
    "print(pickonename.shape)"
   ]
  },
  {
   "cell_type": "code",
   "execution_count": 76,
   "metadata": {},
   "outputs": [
    {
     "data": {
      "text/html": [
       "<div>\n",
       "<style scoped>\n",
       "    .dataframe tbody tr th:only-of-type {\n",
       "        vertical-align: middle;\n",
       "    }\n",
       "\n",
       "    .dataframe tbody tr th {\n",
       "        vertical-align: top;\n",
       "    }\n",
       "\n",
       "    .dataframe thead th {\n",
       "        text-align: right;\n",
       "    }\n",
       "</style>\n",
       "<table border=\"1\" class=\"dataframe\">\n",
       "  <thead>\n",
       "    <tr style=\"text-align: right;\">\n",
       "      <th></th>\n",
       "      <th>seqid</th>\n",
       "      <th>Name</th>\n",
       "      <th>Note</th>\n",
       "      <th>database</th>\n",
       "      <th>Dbxref</th>\n",
       "      <th>start</th>\n",
       "      <th>end</th>\n",
       "      <th>length</th>\n",
       "    </tr>\n",
       "  </thead>\n",
       "  <tbody>\n",
       "    <tr>\n",
       "      <th>110</th>\n",
       "      <td>Transcript_10000</td>\n",
       "      <td>ENSXMAP00000013838</td>\n",
       "      <td>NaN</td>\n",
       "      <td>OrthoDB</td>\n",
       "      <td>NaN</td>\n",
       "      <td>1</td>\n",
       "      <td>382</td>\n",
       "      <td>381</td>\n",
       "    </tr>\n",
       "    <tr>\n",
       "      <th>2</th>\n",
       "      <td>Transcript_100000</td>\n",
       "      <td>ENSXMAP00000016367</td>\n",
       "      <td>NaN</td>\n",
       "      <td>OrthoDB</td>\n",
       "      <td>NaN</td>\n",
       "      <td>163</td>\n",
       "      <td>1480</td>\n",
       "      <td>1317</td>\n",
       "    </tr>\n",
       "    <tr>\n",
       "      <th>9</th>\n",
       "      <td>Transcript_100001</td>\n",
       "      <td>ENSXMAP00000002468</td>\n",
       "      <td>NaN</td>\n",
       "      <td>OrthoDB</td>\n",
       "      <td>NaN</td>\n",
       "      <td>367</td>\n",
       "      <td>739</td>\n",
       "      <td>372</td>\n",
       "    </tr>\n",
       "    <tr>\n",
       "      <th>16</th>\n",
       "      <td>Transcript_100002</td>\n",
       "      <td>ENSXMAP00000002468</td>\n",
       "      <td>NaN</td>\n",
       "      <td>OrthoDB</td>\n",
       "      <td>NaN</td>\n",
       "      <td>19</td>\n",
       "      <td>298</td>\n",
       "      <td>279</td>\n",
       "    </tr>\n",
       "    <tr>\n",
       "      <th>24</th>\n",
       "      <td>Transcript_100003</td>\n",
       "      <td>ENSXMAP00000017080</td>\n",
       "      <td>NaN</td>\n",
       "      <td>OrthoDB</td>\n",
       "      <td>NaN</td>\n",
       "      <td>285</td>\n",
       "      <td>1002</td>\n",
       "      <td>717</td>\n",
       "    </tr>\n",
       "  </tbody>\n",
       "</table>\n",
       "</div>"
      ],
      "text/plain": [
       "                 seqid                Name Note database Dbxref  start   end  \\\n",
       "110   Transcript_10000  ENSXMAP00000013838  NaN  OrthoDB    NaN      1   382   \n",
       "2    Transcript_100000  ENSXMAP00000016367  NaN  OrthoDB    NaN    163  1480   \n",
       "9    Transcript_100001  ENSXMAP00000002468  NaN  OrthoDB    NaN    367   739   \n",
       "16   Transcript_100002  ENSXMAP00000002468  NaN  OrthoDB    NaN     19   298   \n",
       "24   Transcript_100003  ENSXMAP00000017080  NaN  OrthoDB    NaN    285  1002   \n",
       "\n",
       "     length  \n",
       "110     381  \n",
       "2      1317  \n",
       "9       372  \n",
       "16      279  \n",
       "24      717  "
      ]
     },
     "execution_count": 76,
     "metadata": {},
     "output_type": "execute_result"
    }
   ],
   "source": [
    "pickonename.head()"
   ]
  },
  {
   "cell_type": "code",
   "execution_count": 88,
   "metadata": {
    "collapsed": true
   },
   "outputs": [],
   "source": [
    "conversions = pd.read_csv(conversion)"
   ]
  },
  {
   "cell_type": "code",
   "execution_count": 89,
   "metadata": {},
   "outputs": [
    {
     "data": {
      "text/html": [
       "<div>\n",
       "<style scoped>\n",
       "    .dataframe tbody tr th:only-of-type {\n",
       "        vertical-align: middle;\n",
       "    }\n",
       "\n",
       "    .dataframe tbody tr th {\n",
       "        vertical-align: top;\n",
       "    }\n",
       "\n",
       "    .dataframe thead th {\n",
       "        text-align: right;\n",
       "    }\n",
       "</style>\n",
       "<table border=\"1\" class=\"dataframe\">\n",
       "  <thead>\n",
       "    <tr style=\"text-align: right;\">\n",
       "      <th></th>\n",
       "      <th>Name</th>\n",
       "      <th>seqid</th>\n",
       "    </tr>\n",
       "  </thead>\n",
       "  <tbody>\n",
       "    <tr>\n",
       "      <th>0</th>\n",
       "      <td>TRINITY_DN2202_c0_g1_i1</td>\n",
       "      <td>Transcript_0</td>\n",
       "    </tr>\n",
       "    <tr>\n",
       "      <th>1</th>\n",
       "      <td>TRINITY_DN2202_c1_g1_i1</td>\n",
       "      <td>Transcript_1</td>\n",
       "    </tr>\n",
       "    <tr>\n",
       "      <th>2</th>\n",
       "      <td>TRINITY_DN2271_c0_g1_i1</td>\n",
       "      <td>Transcript_2</td>\n",
       "    </tr>\n",
       "    <tr>\n",
       "      <th>3</th>\n",
       "      <td>TRINITY_DN2271_c1_g1_i1</td>\n",
       "      <td>Transcript_3</td>\n",
       "    </tr>\n",
       "    <tr>\n",
       "      <th>4</th>\n",
       "      <td>TRINITY_DN2268_c0_g1_i1</td>\n",
       "      <td>Transcript_4</td>\n",
       "    </tr>\n",
       "  </tbody>\n",
       "</table>\n",
       "</div>"
      ],
      "text/plain": [
       "                      Name         seqid\n",
       "0  TRINITY_DN2202_c0_g1_i1  Transcript_0\n",
       "1  TRINITY_DN2202_c1_g1_i1  Transcript_1\n",
       "2  TRINITY_DN2271_c0_g1_i1  Transcript_2\n",
       "3  TRINITY_DN2271_c1_g1_i1  Transcript_3\n",
       "4  TRINITY_DN2268_c0_g1_i1  Transcript_4"
      ]
     },
     "execution_count": 89,
     "metadata": {},
     "output_type": "execute_result"
    }
   ],
   "source": [
    "conversions['Name'], conversions['info'] = conversions['original'].str.split(' ', 1).str\n",
    "conversions = conversions[['Name','renamed']]\n",
    "conversions.columns = ['Name','seqid']\n",
    "conversions.head()"
   ]
  },
  {
   "cell_type": "code",
   "execution_count": 97,
   "metadata": {},
   "outputs": [
    {
     "data": {
      "text/plain": [
       "(202604, 6)"
      ]
     },
     "execution_count": 97,
     "metadata": {},
     "output_type": "execute_result"
    }
   ],
   "source": [
    "table_filt.shape"
   ]
  },
  {
   "cell_type": "code",
   "execution_count": 105,
   "metadata": {},
   "outputs": [
    {
     "data": {
      "text/plain": [
       "(202604, 7)"
      ]
     },
     "execution_count": 105,
     "metadata": {},
     "output_type": "execute_result"
    }
   ],
   "source": [
    "merged_table = pd.merge(table_filt,conversions,on=\"Name\")\n",
    "merged_table.shape"
   ]
  },
  {
   "cell_type": "code",
   "execution_count": 92,
   "metadata": {
    "collapsed": true
   },
   "outputs": [],
   "source": [
    "merged_table = pd.merge(merged_table,pickonename,on=\"seqid\")"
   ]
  },
  {
   "cell_type": "markdown",
   "metadata": {},
   "source": [
    "# Annotations, removed contigs with no expression"
   ]
  },
  {
   "cell_type": "code",
   "execution_count": 93,
   "metadata": {},
   "outputs": [
    {
     "data": {
      "text/plain": [
       "(87271, 14)"
      ]
     },
     "execution_count": 93,
     "metadata": {},
     "output_type": "execute_result"
    }
   ],
   "source": [
    "merged_table.shape"
   ]
  },
  {
   "cell_type": "code",
   "execution_count": 99,
   "metadata": {},
   "outputs": [
    {
     "data": {
      "text/html": [
       "<div>\n",
       "<style scoped>\n",
       "    .dataframe tbody tr th:only-of-type {\n",
       "        vertical-align: middle;\n",
       "    }\n",
       "\n",
       "    .dataframe tbody tr th {\n",
       "        vertical-align: top;\n",
       "    }\n",
       "\n",
       "    .dataframe thead th {\n",
       "        text-align: right;\n",
       "    }\n",
       "</style>\n",
       "<table border=\"1\" class=\"dataframe\">\n",
       "  <thead>\n",
       "    <tr style=\"text-align: right;\">\n",
       "      <th></th>\n",
       "      <th>Name_x</th>\n",
       "      <th>Length</th>\n",
       "      <th>EffectiveLength</th>\n",
       "      <th>TPM</th>\n",
       "      <th>NumReads</th>\n",
       "      <th>Gene</th>\n",
       "      <th>seqid</th>\n",
       "      <th>Name_y</th>\n",
       "      <th>Note</th>\n",
       "      <th>database</th>\n",
       "      <th>Dbxref</th>\n",
       "      <th>start</th>\n",
       "      <th>end</th>\n",
       "      <th>length</th>\n",
       "    </tr>\n",
       "  </thead>\n",
       "  <tbody>\n",
       "    <tr>\n",
       "      <th>0</th>\n",
       "      <td>TRINITY_DN2268_c0_g1_i1</td>\n",
       "      <td>272</td>\n",
       "      <td>66.900</td>\n",
       "      <td>1.347844</td>\n",
       "      <td>1.061129</td>\n",
       "      <td>TRINITY_DN2268_c0_g1</td>\n",
       "      <td>Transcript_4</td>\n",
       "      <td>EHJ73841</td>\n",
       "      <td>NaN</td>\n",
       "      <td>OrthoDB</td>\n",
       "      <td>NaN</td>\n",
       "      <td>187</td>\n",
       "      <td>271</td>\n",
       "      <td>84</td>\n",
       "    </tr>\n",
       "    <tr>\n",
       "      <th>1</th>\n",
       "      <td>TRINITY_DN2223_c0_g1_i1</td>\n",
       "      <td>272</td>\n",
       "      <td>66.900</td>\n",
       "      <td>2.540396</td>\n",
       "      <td>2.000000</td>\n",
       "      <td>TRINITY_DN2223_c0_g1</td>\n",
       "      <td>Transcript_25</td>\n",
       "      <td>ENSTNIP00000015762</td>\n",
       "      <td>NaN</td>\n",
       "      <td>OrthoDB</td>\n",
       "      <td>NaN</td>\n",
       "      <td>2</td>\n",
       "      <td>272</td>\n",
       "      <td>270</td>\n",
       "    </tr>\n",
       "    <tr>\n",
       "      <th>2</th>\n",
       "      <td>TRINITY_DN2294_c0_g1_i1</td>\n",
       "      <td>691</td>\n",
       "      <td>441.742</td>\n",
       "      <td>0.961823</td>\n",
       "      <td>5.000000</td>\n",
       "      <td>TRINITY_DN2294_c0_g1</td>\n",
       "      <td>Transcript_27</td>\n",
       "      <td>ENSXMAP00000008686</td>\n",
       "      <td>NaN</td>\n",
       "      <td>OrthoDB</td>\n",
       "      <td>NaN</td>\n",
       "      <td>1</td>\n",
       "      <td>85</td>\n",
       "      <td>84</td>\n",
       "    </tr>\n",
       "    <tr>\n",
       "      <th>3</th>\n",
       "      <td>TRINITY_DN2293_c0_g1_i1</td>\n",
       "      <td>646</td>\n",
       "      <td>397.346</td>\n",
       "      <td>0.855432</td>\n",
       "      <td>4.000000</td>\n",
       "      <td>TRINITY_DN2293_c0_g1</td>\n",
       "      <td>Transcript_34</td>\n",
       "      <td>ENSPTRP00000039483</td>\n",
       "      <td>NaN</td>\n",
       "      <td>OrthoDB</td>\n",
       "      <td>NaN</td>\n",
       "      <td>395</td>\n",
       "      <td>482</td>\n",
       "      <td>87</td>\n",
       "    </tr>\n",
       "    <tr>\n",
       "      <th>4</th>\n",
       "      <td>TRINITY_DN73018_c0_g1_i1</td>\n",
       "      <td>425</td>\n",
       "      <td>187.049</td>\n",
       "      <td>3.634368</td>\n",
       "      <td>8.000000</td>\n",
       "      <td>TRINITY_DN73018_c0_g1</td>\n",
       "      <td>Transcript_71</td>\n",
       "      <td>LSU_rRNA_eukarya</td>\n",
       "      <td>-</td>\n",
       "      <td>NaN</td>\n",
       "      <td>\"Rfam:RF02543\"</td>\n",
       "      <td>0</td>\n",
       "      <td>425</td>\n",
       "      <td>425</td>\n",
       "    </tr>\n",
       "  </tbody>\n",
       "</table>\n",
       "</div>"
      ],
      "text/plain": [
       "                     Name_x  Length  EffectiveLength       TPM  NumReads  \\\n",
       "0   TRINITY_DN2268_c0_g1_i1     272           66.900  1.347844  1.061129   \n",
       "1   TRINITY_DN2223_c0_g1_i1     272           66.900  2.540396  2.000000   \n",
       "2   TRINITY_DN2294_c0_g1_i1     691          441.742  0.961823  5.000000   \n",
       "3   TRINITY_DN2293_c0_g1_i1     646          397.346  0.855432  4.000000   \n",
       "4  TRINITY_DN73018_c0_g1_i1     425          187.049  3.634368  8.000000   \n",
       "\n",
       "                    Gene          seqid              Name_y Note database  \\\n",
       "0   TRINITY_DN2268_c0_g1   Transcript_4            EHJ73841  NaN  OrthoDB   \n",
       "1   TRINITY_DN2223_c0_g1  Transcript_25  ENSTNIP00000015762  NaN  OrthoDB   \n",
       "2   TRINITY_DN2294_c0_g1  Transcript_27  ENSXMAP00000008686  NaN  OrthoDB   \n",
       "3   TRINITY_DN2293_c0_g1  Transcript_34  ENSPTRP00000039483  NaN  OrthoDB   \n",
       "4  TRINITY_DN73018_c0_g1  Transcript_71    LSU_rRNA_eukarya    -      NaN   \n",
       "\n",
       "           Dbxref  start  end  length  \n",
       "0             NaN    187  271      84  \n",
       "1             NaN      2  272     270  \n",
       "2             NaN      1   85      84  \n",
       "3             NaN    395  482      87  \n",
       "4  \"Rfam:RF02543\"      0  425     425  "
      ]
     },
     "execution_count": 99,
     "metadata": {},
     "output_type": "execute_result"
    }
   ],
   "source": [
    "merged_table.head()"
   ]
  },
  {
   "cell_type": "markdown",
   "metadata": {},
   "source": [
    "# Unique gene names in filtered contigs"
   ]
  },
  {
   "cell_type": "code",
   "execution_count": 95,
   "metadata": {},
   "outputs": [
    {
     "name": "stdout",
     "output_type": "stream",
     "text": [
      "36695\n"
     ]
    }
   ],
   "source": [
    "print(len(merged_table.Name_y.unique()))"
   ]
  },
  {
   "cell_type": "markdown",
   "metadata": {},
   "source": [
    "# Unique Trinity \"genes\" in filtered contigs"
   ]
  },
  {
   "cell_type": "code",
   "execution_count": 96,
   "metadata": {},
   "outputs": [
    {
     "name": "stdout",
     "output_type": "stream",
     "text": [
      "43627\n"
     ]
    }
   ],
   "source": [
    "print(len(merged_table.Gene.unique()))"
   ]
  },
  {
   "cell_type": "code",
   "execution_count": 112,
   "metadata": {},
   "outputs": [
    {
     "name": "stdout",
     "output_type": "stream",
     "text": [
      "Number of unique Fhet gene names:\n",
      "22631\n"
     ]
    }
   ],
   "source": [
    "fhet = annotations[annotations['Name'].str.startswith(\"gi\")]\n",
    "fhet_filtered = fhet.query('score < 1e-05').drop_duplicates(subset='seqid')[['seqid', 'Name','start','end','length']]\n",
    "print(\"Number of unique Fhet gene names:\")\n",
    "print(len(fhet_filtered.Name.unique()))"
   ]
  },
  {
   "cell_type": "code",
   "execution_count": 104,
   "metadata": {},
   "outputs": [
    {
     "data": {
      "text/html": [
       "<div>\n",
       "<style scoped>\n",
       "    .dataframe tbody tr th:only-of-type {\n",
       "        vertical-align: middle;\n",
       "    }\n",
       "\n",
       "    .dataframe tbody tr th {\n",
       "        vertical-align: top;\n",
       "    }\n",
       "\n",
       "    .dataframe thead th {\n",
       "        text-align: right;\n",
       "    }\n",
       "</style>\n",
       "<table border=\"1\" class=\"dataframe\">\n",
       "  <thead>\n",
       "    <tr style=\"text-align: right;\">\n",
       "      <th></th>\n",
       "      <th>seqid</th>\n",
       "      <th>Name</th>\n",
       "      <th>start</th>\n",
       "      <th>end</th>\n",
       "      <th>length</th>\n",
       "    </tr>\n",
       "  </thead>\n",
       "  <tbody>\n",
       "    <tr>\n",
       "      <th>25</th>\n",
       "      <td>Transcript_100003</td>\n",
       "      <td>gi|831567809|ref|XP_012733833.1| PREDICTED: my...</td>\n",
       "      <td>95</td>\n",
       "      <td>334</td>\n",
       "      <td>239</td>\n",
       "    </tr>\n",
       "    <tr>\n",
       "      <th>34</th>\n",
       "      <td>Transcript_100004</td>\n",
       "      <td>gi|831567809|ref|XP_012733833.1| PREDICTED: my...</td>\n",
       "      <td>0</td>\n",
       "      <td>83</td>\n",
       "      <td>83</td>\n",
       "    </tr>\n",
       "    <tr>\n",
       "      <th>50</th>\n",
       "      <td>Transcript_100006</td>\n",
       "      <td>gi|831503966|ref|XP_012711679.1| PREDICTED: pi...</td>\n",
       "      <td>413</td>\n",
       "      <td>433</td>\n",
       "      <td>20</td>\n",
       "    </tr>\n",
       "    <tr>\n",
       "      <th>68</th>\n",
       "      <td>Transcript_100007</td>\n",
       "      <td>gi|831503966|ref|XP_012711679.1| PREDICTED: pi...</td>\n",
       "      <td>419</td>\n",
       "      <td>439</td>\n",
       "      <td>20</td>\n",
       "    </tr>\n",
       "    <tr>\n",
       "      <th>86</th>\n",
       "      <td>Transcript_100008</td>\n",
       "      <td>gi|831567809|ref|XP_012733833.1| PREDICTED: my...</td>\n",
       "      <td>95</td>\n",
       "      <td>278</td>\n",
       "      <td>183</td>\n",
       "    </tr>\n",
       "  </tbody>\n",
       "</table>\n",
       "</div>"
      ],
      "text/plain": [
       "                seqid                                               Name  \\\n",
       "25  Transcript_100003  gi|831567809|ref|XP_012733833.1| PREDICTED: my...   \n",
       "34  Transcript_100004  gi|831567809|ref|XP_012733833.1| PREDICTED: my...   \n",
       "50  Transcript_100006  gi|831503966|ref|XP_012711679.1| PREDICTED: pi...   \n",
       "68  Transcript_100007  gi|831503966|ref|XP_012711679.1| PREDICTED: pi...   \n",
       "86  Transcript_100008  gi|831567809|ref|XP_012733833.1| PREDICTED: my...   \n",
       "\n",
       "    start  end  length  \n",
       "25     95  334     239  \n",
       "34      0   83      83  \n",
       "50    413  433      20  \n",
       "68    419  439      20  \n",
       "86     95  278     183  "
      ]
     },
     "execution_count": 104,
     "metadata": {},
     "output_type": "execute_result"
    }
   ],
   "source": [
    "fhet_filtered.head()"
   ]
  },
  {
   "cell_type": "markdown",
   "metadata": {},
   "source": [
    "# Filtered expresion table, removed contigs with no expression"
   ]
  },
  {
   "cell_type": "code",
   "execution_count": 106,
   "metadata": {},
   "outputs": [
    {
     "data": {
      "text/plain": [
       "(202604, 7)"
      ]
     },
     "execution_count": 106,
     "metadata": {},
     "output_type": "execute_result"
    }
   ],
   "source": [
    "merged_table.shape"
   ]
  },
  {
   "cell_type": "code",
   "execution_count": 107,
   "metadata": {},
   "outputs": [
    {
     "data": {
      "text/html": [
       "<div>\n",
       "<style scoped>\n",
       "    .dataframe tbody tr th:only-of-type {\n",
       "        vertical-align: middle;\n",
       "    }\n",
       "\n",
       "    .dataframe tbody tr th {\n",
       "        vertical-align: top;\n",
       "    }\n",
       "\n",
       "    .dataframe thead th {\n",
       "        text-align: right;\n",
       "    }\n",
       "</style>\n",
       "<table border=\"1\" class=\"dataframe\">\n",
       "  <thead>\n",
       "    <tr style=\"text-align: right;\">\n",
       "      <th></th>\n",
       "      <th>Name</th>\n",
       "      <th>Length</th>\n",
       "      <th>EffectiveLength</th>\n",
       "      <th>TPM</th>\n",
       "      <th>NumReads</th>\n",
       "      <th>Gene</th>\n",
       "      <th>seqid</th>\n",
       "    </tr>\n",
       "  </thead>\n",
       "  <tbody>\n",
       "    <tr>\n",
       "      <th>0</th>\n",
       "      <td>TRINITY_DN2202_c1_g1_i1</td>\n",
       "      <td>290</td>\n",
       "      <td>78.150</td>\n",
       "      <td>1.087338</td>\n",
       "      <td>1.000000</td>\n",
       "      <td>TRINITY_DN2202_c1_g1</td>\n",
       "      <td>Transcript_1</td>\n",
       "    </tr>\n",
       "    <tr>\n",
       "      <th>1</th>\n",
       "      <td>TRINITY_DN2268_c0_g1_i1</td>\n",
       "      <td>272</td>\n",
       "      <td>66.900</td>\n",
       "      <td>1.347844</td>\n",
       "      <td>1.061129</td>\n",
       "      <td>TRINITY_DN2268_c0_g1</td>\n",
       "      <td>Transcript_4</td>\n",
       "    </tr>\n",
       "    <tr>\n",
       "      <th>2</th>\n",
       "      <td>TRINITY_DN2201_c0_g1_i1</td>\n",
       "      <td>211</td>\n",
       "      <td>38.753</td>\n",
       "      <td>2.192735</td>\n",
       "      <td>1.000000</td>\n",
       "      <td>TRINITY_DN2201_c0_g1</td>\n",
       "      <td>Transcript_5</td>\n",
       "    </tr>\n",
       "    <tr>\n",
       "      <th>3</th>\n",
       "      <td>TRINITY_DN2275_c0_g1_i1</td>\n",
       "      <td>309</td>\n",
       "      <td>91.270</td>\n",
       "      <td>0.931033</td>\n",
       "      <td>1.000000</td>\n",
       "      <td>TRINITY_DN2275_c0_g1</td>\n",
       "      <td>Transcript_7</td>\n",
       "    </tr>\n",
       "    <tr>\n",
       "      <th>4</th>\n",
       "      <td>TRINITY_DN2272_c0_g1_i1</td>\n",
       "      <td>374</td>\n",
       "      <td>142.516</td>\n",
       "      <td>0.596254</td>\n",
       "      <td>1.000000</td>\n",
       "      <td>TRINITY_DN2272_c0_g1</td>\n",
       "      <td>Transcript_9</td>\n",
       "    </tr>\n",
       "  </tbody>\n",
       "</table>\n",
       "</div>"
      ],
      "text/plain": [
       "                      Name  Length  EffectiveLength       TPM  NumReads  \\\n",
       "0  TRINITY_DN2202_c1_g1_i1     290           78.150  1.087338  1.000000   \n",
       "1  TRINITY_DN2268_c0_g1_i1     272           66.900  1.347844  1.061129   \n",
       "2  TRINITY_DN2201_c0_g1_i1     211           38.753  2.192735  1.000000   \n",
       "3  TRINITY_DN2275_c0_g1_i1     309           91.270  0.931033  1.000000   \n",
       "4  TRINITY_DN2272_c0_g1_i1     374          142.516  0.596254  1.000000   \n",
       "\n",
       "                   Gene         seqid  \n",
       "0  TRINITY_DN2202_c1_g1  Transcript_1  \n",
       "1  TRINITY_DN2268_c0_g1  Transcript_4  \n",
       "2  TRINITY_DN2201_c0_g1  Transcript_5  \n",
       "3  TRINITY_DN2275_c0_g1  Transcript_7  \n",
       "4  TRINITY_DN2272_c0_g1  Transcript_9  "
      ]
     },
     "execution_count": 107,
     "metadata": {},
     "output_type": "execute_result"
    }
   ],
   "source": [
    "merged_table.head()"
   ]
  },
  {
   "cell_type": "markdown",
   "metadata": {},
   "source": [
    "# *F. heteroclitus* (RefSeq) annotations, removed contigs with no expression"
   ]
  },
  {
   "cell_type": "code",
   "execution_count": 108,
   "metadata": {
    "collapsed": true
   },
   "outputs": [],
   "source": [
    "fhet_merged_table = pd.merge(merged_table,fhet_filtered,on='seqid')"
   ]
  },
  {
   "cell_type": "code",
   "execution_count": 109,
   "metadata": {},
   "outputs": [
    {
     "data": {
      "text/plain": [
       "(50975, 11)"
      ]
     },
     "execution_count": 109,
     "metadata": {},
     "output_type": "execute_result"
    }
   ],
   "source": [
    "fhet_merged_table.shape"
   ]
  },
  {
   "cell_type": "code",
   "execution_count": 116,
   "metadata": {},
   "outputs": [
    {
     "data": {
      "text/html": [
       "<div>\n",
       "<style scoped>\n",
       "    .dataframe tbody tr th:only-of-type {\n",
       "        vertical-align: middle;\n",
       "    }\n",
       "\n",
       "    .dataframe tbody tr th {\n",
       "        vertical-align: top;\n",
       "    }\n",
       "\n",
       "    .dataframe thead th {\n",
       "        text-align: right;\n",
       "    }\n",
       "</style>\n",
       "<table border=\"1\" class=\"dataframe\">\n",
       "  <thead>\n",
       "    <tr style=\"text-align: right;\">\n",
       "      <th></th>\n",
       "      <th>Contig</th>\n",
       "      <th>Length</th>\n",
       "      <th>EffectiveLength</th>\n",
       "      <th>TPM</th>\n",
       "      <th>NumReads</th>\n",
       "      <th>Gene</th>\n",
       "      <th>dammit.seqid</th>\n",
       "      <th>FhetNCBIName</th>\n",
       "      <th>start.annottion</th>\n",
       "      <th>end.annotation</th>\n",
       "      <th>length.annotation</th>\n",
       "    </tr>\n",
       "  </thead>\n",
       "  <tbody>\n",
       "    <tr>\n",
       "      <th>0</th>\n",
       "      <td>TRINITY_DN2223_c0_g1_i1</td>\n",
       "      <td>272</td>\n",
       "      <td>66.900</td>\n",
       "      <td>2.540396</td>\n",
       "      <td>2.000000</td>\n",
       "      <td>TRINITY_DN2223_c0_g1</td>\n",
       "      <td>Transcript_25</td>\n",
       "      <td>gi|831524180|ref|XP_012718601.1| PREDICTED: le...</td>\n",
       "      <td>0</td>\n",
       "      <td>90</td>\n",
       "      <td>90</td>\n",
       "    </tr>\n",
       "    <tr>\n",
       "      <th>1</th>\n",
       "      <td>TRINITY_DN2294_c0_g1_i1</td>\n",
       "      <td>691</td>\n",
       "      <td>441.742</td>\n",
       "      <td>0.961823</td>\n",
       "      <td>5.000000</td>\n",
       "      <td>TRINITY_DN2294_c0_g1</td>\n",
       "      <td>Transcript_27</td>\n",
       "      <td>gi|831580603|ref|XP_012738233.1| PREDICTED: ab...</td>\n",
       "      <td>0</td>\n",
       "      <td>28</td>\n",
       "      <td>28</td>\n",
       "    </tr>\n",
       "    <tr>\n",
       "      <th>2</th>\n",
       "      <td>TRINITY_DN91698_c0_g1_i1</td>\n",
       "      <td>828</td>\n",
       "      <td>578.007</td>\n",
       "      <td>6.640536</td>\n",
       "      <td>45.169115</td>\n",
       "      <td>TRINITY_DN91698_c0_g1</td>\n",
       "      <td>Transcript_206</td>\n",
       "      <td>gi|831524518|ref|XP_012718723.1| PREDICTED: du...</td>\n",
       "      <td>26</td>\n",
       "      <td>208</td>\n",
       "      <td>182</td>\n",
       "    </tr>\n",
       "    <tr>\n",
       "      <th>3</th>\n",
       "      <td>TRINITY_DN91698_c0_g2_i1</td>\n",
       "      <td>243</td>\n",
       "      <td>51.396</td>\n",
       "      <td>3.027098</td>\n",
       "      <td>1.830885</td>\n",
       "      <td>TRINITY_DN91698_c0_g2</td>\n",
       "      <td>Transcript_207</td>\n",
       "      <td>gi|831524518|ref|XP_012718723.1| PREDICTED: du...</td>\n",
       "      <td>26</td>\n",
       "      <td>79</td>\n",
       "      <td>53</td>\n",
       "    </tr>\n",
       "    <tr>\n",
       "      <th>4</th>\n",
       "      <td>TRINITY_DN91660_c0_g1_i1</td>\n",
       "      <td>520</td>\n",
       "      <td>275.173</td>\n",
       "      <td>0.309218</td>\n",
       "      <td>1.001326</td>\n",
       "      <td>TRINITY_DN91660_c0_g1</td>\n",
       "      <td>Transcript_226</td>\n",
       "      <td>gi|831481653|ref|XP_012728360.1| PREDICTED: zi...</td>\n",
       "      <td>0</td>\n",
       "      <td>56</td>\n",
       "      <td>56</td>\n",
       "    </tr>\n",
       "  </tbody>\n",
       "</table>\n",
       "</div>"
      ],
      "text/plain": [
       "                     Contig  Length  EffectiveLength       TPM   NumReads  \\\n",
       "0   TRINITY_DN2223_c0_g1_i1     272           66.900  2.540396   2.000000   \n",
       "1   TRINITY_DN2294_c0_g1_i1     691          441.742  0.961823   5.000000   \n",
       "2  TRINITY_DN91698_c0_g1_i1     828          578.007  6.640536  45.169115   \n",
       "3  TRINITY_DN91698_c0_g2_i1     243           51.396  3.027098   1.830885   \n",
       "4  TRINITY_DN91660_c0_g1_i1     520          275.173  0.309218   1.001326   \n",
       "\n",
       "                    Gene    dammit.seqid  \\\n",
       "0   TRINITY_DN2223_c0_g1   Transcript_25   \n",
       "1   TRINITY_DN2294_c0_g1   Transcript_27   \n",
       "2  TRINITY_DN91698_c0_g1  Transcript_206   \n",
       "3  TRINITY_DN91698_c0_g2  Transcript_207   \n",
       "4  TRINITY_DN91660_c0_g1  Transcript_226   \n",
       "\n",
       "                                        FhetNCBIName  start.annottion  \\\n",
       "0  gi|831524180|ref|XP_012718601.1| PREDICTED: le...                0   \n",
       "1  gi|831580603|ref|XP_012738233.1| PREDICTED: ab...                0   \n",
       "2  gi|831524518|ref|XP_012718723.1| PREDICTED: du...               26   \n",
       "3  gi|831524518|ref|XP_012718723.1| PREDICTED: du...               26   \n",
       "4  gi|831481653|ref|XP_012728360.1| PREDICTED: zi...                0   \n",
       "\n",
       "   end.annotation  length.annotation  \n",
       "0              90                 90  \n",
       "1              28                 28  \n",
       "2             208                182  \n",
       "3              79                 53  \n",
       "4              56                 56  "
      ]
     },
     "execution_count": 116,
     "metadata": {},
     "output_type": "execute_result"
    }
   ],
   "source": [
    "fhet_merged_table.columns = ['Contig','Length','EffectiveLength','TPM','NumReads','Gene','dammit.seqid','FhetNCBIName','start.annottion','end.annotation','length.annotation']\n",
    "fhet_merged_table.head()"
   ]
  },
  {
   "cell_type": "markdown",
   "metadata": {},
   "source": [
    "# Unique *F. heteroclitus* (RefSeq) annotations, removed contigs with no expression"
   ]
  },
  {
   "cell_type": "code",
   "execution_count": 117,
   "metadata": {},
   "outputs": [
    {
     "name": "stdout",
     "output_type": "stream",
     "text": [
      "20674\n"
     ]
    }
   ],
   "source": [
    "print(len(fhet_merged_table.FhetNCBIName.unique()))"
   ]
  },
  {
   "cell_type": "code",
   "execution_count": null,
   "metadata": {
    "collapsed": true
   },
   "outputs": [],
   "source": []
  }
 ],
 "metadata": {
  "kernelspec": {
   "display_name": "Python 3",
   "language": "python",
   "name": "python3"
  },
  "language_info": {
   "codemirror_mode": {
    "name": "ipython",
    "version": 3
   },
   "file_extension": ".py",
   "mimetype": "text/x-python",
   "name": "python",
   "nbconvert_exporter": "python",
   "pygments_lexer": "ipython3",
   "version": "3.6.3"
  }
 },
 "nbformat": 4,
 "nbformat_minor": 2
}
