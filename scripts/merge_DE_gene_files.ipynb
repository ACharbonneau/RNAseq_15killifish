{
 "cells": [
  {
   "cell_type": "code",
   "execution_count": 35,
   "metadata": {
    "collapsed": true
   },
   "outputs": [],
   "source": [
    "import pandas as pd\n",
    "import os\n",
    "import os.path\n",
    "from functools import reduce"
   ]
  },
  {
   "cell_type": "code",
   "execution_count": 6,
   "metadata": {},
   "outputs": [
    {
     "name": "stdout",
     "output_type": "stream",
     "text": [
      "['F_parvapinis_DE_TR_FW.csv', 'F_similis_DE_TR_BW.csv', 'F_notatus_DE_TR_FW.csv', 'F_rathbuni_DE_TR_BW.csv', '.DS_Store', 'A_xenica_DE_TR_BW.csv', 'F_heteroclitusMDPL_DE_TR_BW.csv', 'F_chrysotus_DE_TR_FW.csv', 'L_goodei_DE_TR_BW.csv', 'L_parva_DE_TR_FW.csv', 'F_olivaceus_DE_TR_FW.csv', 'F_heteroclitusMDPP_DE_TR_FW.csv', 'F_grandis_DE_TR_FW.csv', 'F_rathbuni_DE_TR_FW.csv', 'F_notatus_DE_TR_BW.csv', 'F_similis_DE_TR_FW.csv', 'F_parvapinis_DE_TR_BW.csv', 'F_heteroclitusMDPL_DE_TR_FW.csv', 'A_xenica_DE_TR_FW.csv', 'F_chrysotus_DE_TR_BW.csv', 'F_grandis_DE_TR_BW.csv', 'F_heteroclitusMDPP_DE_TR_BW.csv', 'F_olivaceus_DE_TR_BW.csv', 'L_parva_DE_TR_BW.csv', 'L_goodei_DE_TR_FW.csv']\n"
     ]
    }
   ],
   "source": [
    "# list all results files\n",
    "DE_dir = \"../DE_results_all_genes/\"\n",
    "DE_files = os.listdir(DE_dir)\n",
    "print(DE_files)"
   ]
  },
  {
   "cell_type": "code",
   "execution_count": 11,
   "metadata": {},
   "outputs": [
    {
     "name": "stdout",
     "output_type": "stream",
     "text": [
      "F_parvapinis\n",
      "F_similis\n",
      "F_notatus\n",
      "F_rathbuni\n",
      "A_xenica\n",
      "F_heteroclitusMDPL\n",
      "F_chrysotus\n",
      "L_goodei\n",
      "L_parva\n",
      "F_olivaceus\n",
      "F_heteroclitusMDPP\n",
      "F_grandis\n",
      "F_rathbuni\n",
      "F_notatus\n",
      "F_similis\n",
      "F_parvapinis\n",
      "F_heteroclitusMDPL\n",
      "A_xenica\n",
      "F_chrysotus\n",
      "F_grandis\n",
      "F_heteroclitusMDPP\n",
      "F_olivaceus\n",
      "L_parva\n",
      "L_goodei\n",
      "['F_parvapinis_DE_TR_FW.csv', 'F_notatus_DE_TR_FW.csv', 'F_chrysotus_DE_TR_FW.csv', 'L_parva_DE_TR_FW.csv', 'F_olivaceus_DE_TR_FW.csv', 'F_heteroclitusMDPP_DE_TR_FW.csv', 'F_grandis_DE_TR_FW.csv', 'F_rathbuni_DE_TR_FW.csv', 'F_similis_DE_TR_FW.csv', 'F_heteroclitusMDPL_DE_TR_FW.csv', 'A_xenica_DE_TR_FW.csv', 'L_goodei_DE_TR_FW.csv']\n",
      "['F_similis_DE_TR_BW.csv', 'F_rathbuni_DE_TR_BW.csv', 'A_xenica_DE_TR_BW.csv', 'F_heteroclitusMDPL_DE_TR_BW.csv', 'L_goodei_DE_TR_BW.csv', 'F_notatus_DE_TR_BW.csv', 'F_parvapinis_DE_TR_BW.csv', 'F_chrysotus_DE_TR_BW.csv', 'F_grandis_DE_TR_BW.csv', 'F_heteroclitusMDPP_DE_TR_BW.csv', 'F_olivaceus_DE_TR_BW.csv', 'L_parva_DE_TR_BW.csv']\n"
     ]
    }
   ],
   "source": [
    "# split files into FW and BW sets\n",
    "# there is one FW and one BW file per species\n",
    "BW_files = []\n",
    "FW_files = []\n",
    "for species_file in DE_files:\n",
    "    if species_file != \".DS_Store\":\n",
    "        genus = species_file.split(\"_\")[0]\n",
    "        species = species_file.split(\"_\")[1]\n",
    "        genus_species = genus + \"_\" + species\n",
    "        print(genus_species)\n",
    "        if species_file.endswith(\"FW.csv\"):\n",
    "            FW_files.append(species_file)\n",
    "        if species_file.endswith(\"BW.csv\"):\n",
    "            BW_files.append(species_file)\n",
    "print(FW_files)\n",
    "print(BW_files)"
   ]
  },
  {
   "cell_type": "code",
   "execution_count": 38,
   "metadata": {
    "collapsed": true
   },
   "outputs": [],
   "source": [
    "# merge all files together based on the union 'GeneID' column (some values in this colulmn will be the same, others won't)\n",
    "# keep these other columns (column names will be the same, values will all be different)\n",
    "# keep_list = [\"Trinity_contigID\",\"Trinity_gene\",\"Trinity_gene2.\",\"dammit_ID\",\"dammit_ID2\",\"NCBI_Fhet\",\"baseMean.x\",\"log2FoldChange.x\",\"lfcSE.x\",\"stat.x\",\"pvalue.x\",\"padj.x\",\"baseMean.y\",\"log2FoldChange.y\",\"lfcSE.y\",\"stat.y\",\"pvalue.y\",\"padj.y]\n",
    "dfs = []\n",
    "for filename in FW_files:\n",
    "    #print(filename)\n",
    "    df = pd.read_csv(DE_dir+filename,index_col=None)\n",
    "    #print(len(df['GeneID']))\n",
    "    dfs.append(df)\n",
    "    #print(frame.shape)\n",
    "df_final = reduce(lambda left,right: pd.merge(left,right,how='outer',on='GeneID'), dfs)"
   ]
  },
  {
   "cell_type": "code",
   "execution_count": 40,
   "metadata": {
    "collapsed": true
   },
   "outputs": [],
   "source": [
    "df_final.to_csv(\"../DE_results/DE_all.csv\")"
   ]
  },
  {
   "cell_type": "code",
   "execution_count": null,
   "metadata": {
    "collapsed": true
   },
   "outputs": [],
   "source": []
  }
 ],
 "metadata": {
  "kernelspec": {
   "display_name": "Python 3",
   "language": "python",
   "name": "python3"
  },
  "language_info": {
   "codemirror_mode": {
    "name": "ipython",
    "version": 3
   },
   "file_extension": ".py",
   "mimetype": "text/x-python",
   "name": "python",
   "nbconvert_exporter": "python",
   "pygments_lexer": "ipython3",
   "version": "3.6.3"
  }
 },
 "nbformat": 4,
 "nbformat_minor": 2
}
