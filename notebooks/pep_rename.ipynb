{
 "cells": [
  {
   "cell_type": "code",
   "execution_count": 1,
   "metadata": {},
   "outputs": [],
   "source": [
    "import screed\n",
    "import os\n",
    "import pandas as pd"
   ]
  },
  {
   "cell_type": "code",
   "execution_count": 2,
   "metadata": {},
   "outputs": [],
   "source": [
    "dammit_conversion_dir = \"/kfish_annotations/namemaps/reformatted/\"\n",
    "basedir = \"/kfish_clust/pep/\"\n",
    "renamed = \"/kfish_clust/pep_renamed/\"\n",
    "assemblies = os.listdir(basedir)"
   ]
  },
  {
   "cell_type": "code",
   "execution_count": 3,
   "metadata": {},
   "outputs": [
    {
     "name": "stdout",
     "output_type": "stream",
     "text": [
      "['L_parva.trinity_out.Trinity.fasta.transdecoder.pep.fasta', 'F_diaphanus.trinity_out.Trinity.fasta.transdecoder.pep.fasta', 'F_notti.trinity_out.Trinity.fasta.transdecoder.pep.fasta', 'F_heteroclitusMDPL.trinity_out.Trinity.fasta.transdecoder.pep.fasta', 'A_xenica.trinity_out.Trinity.fasta.transdecoder.pep.fasta', 'F_notatus.trinity_out.Trinity.fasta.transdecoder.pep.fasta', 'F_catanatus.trinity_out.Trinity.fasta.transdecoder.pep.fasta', 'L_goodei.trinity_out.Trinity.fasta.transdecoder.pep.fasta', 'F_grandis.trinity_out.Trinity.fasta.transdecoder.pep.fasta', 'F_rathbuni.trinity_out.Trinity.fasta.transdecoder.pep.fasta', 'F_similis.trinity_out.Trinity.fasta.transdecoder.pep.fasta', 'F_chrysotus.trinity_out.Trinity.fasta.transdecoder.pep.fasta', 'F_sciadicus.trinity_out.Trinity.fasta.transdecoder.pep.fasta', 'F_parvapinis.trinity_out.Trinity.fasta.transdecoder.pep.fasta', 'F_heteroclitusMDPP.trinity_out.Trinity.fasta.transdecoder.pep.fasta', 'F_olivaceous.trinity_out.Trinity.fasta.transdecoder.pep.fasta', 'F_zebrinus.trinity_out.Trinity.fasta.transdecoder.pep.fasta']\n"
     ]
    }
   ],
   "source": [
    "print(assemblies)"
   ]
  },
  {
   "cell_type": "markdown",
   "metadata": {},
   "source": [
    "# test code"
   ]
  },
  {
   "cell_type": "code",
   "execution_count": 4,
   "metadata": {},
   "outputs": [],
   "source": [
    "conversion_file = dammit_conversion_dir + \"L_parva\" + \".dammit.Trinity.conversions.csv\"\n",
    "conversions = pd.read_csv(conversion_file)\n",
    "conversions = conversions.drop(columns=['Unnamed: 0'])\n",
    "conversions = conversions.set_index('dammitID')"
   ]
  },
  {
   "cell_type": "code",
   "execution_count": 5,
   "metadata": {},
   "outputs": [
    {
     "data": {
      "text/html": [
       "<div>\n",
       "<style scoped>\n",
       "    .dataframe tbody tr th:only-of-type {\n",
       "        vertical-align: middle;\n",
       "    }\n",
       "\n",
       "    .dataframe tbody tr th {\n",
       "        vertical-align: top;\n",
       "    }\n",
       "\n",
       "    .dataframe thead th {\n",
       "        text-align: right;\n",
       "    }\n",
       "</style>\n",
       "<table border=\"1\" class=\"dataframe\">\n",
       "  <thead>\n",
       "    <tr style=\"text-align: right;\">\n",
       "      <th></th>\n",
       "      <th>TrinityID</th>\n",
       "    </tr>\n",
       "    <tr>\n",
       "      <th>dammitID</th>\n",
       "      <th></th>\n",
       "    </tr>\n",
       "  </thead>\n",
       "  <tbody>\n",
       "    <tr>\n",
       "      <th>Transcript_0</th>\n",
       "      <td>TRINITY_DN8_c0_g1_i27</td>\n",
       "    </tr>\n",
       "    <tr>\n",
       "      <th>Transcript_1</th>\n",
       "      <td>TRINITY_DN8_c0_g1_i1</td>\n",
       "    </tr>\n",
       "    <tr>\n",
       "      <th>Transcript_2</th>\n",
       "      <td>TRINITY_DN8_c0_g1_i21</td>\n",
       "    </tr>\n",
       "    <tr>\n",
       "      <th>Transcript_3</th>\n",
       "      <td>TRINITY_DN8_c0_g1_i24</td>\n",
       "    </tr>\n",
       "    <tr>\n",
       "      <th>Transcript_4</th>\n",
       "      <td>TRINITY_DN8_c0_g1_i2</td>\n",
       "    </tr>\n",
       "  </tbody>\n",
       "</table>\n",
       "</div>"
      ],
      "text/plain": [
       "                          TrinityID\n",
       "dammitID                           \n",
       "Transcript_0  TRINITY_DN8_c0_g1_i27\n",
       "Transcript_1   TRINITY_DN8_c0_g1_i1\n",
       "Transcript_2  TRINITY_DN8_c0_g1_i21\n",
       "Transcript_3  TRINITY_DN8_c0_g1_i24\n",
       "Transcript_4   TRINITY_DN8_c0_g1_i2"
      ]
     },
     "execution_count": 5,
     "metadata": {},
     "output_type": "execute_result"
    }
   ],
   "source": [
    "conversions.head()"
   ]
  },
  {
   "cell_type": "code",
   "execution_count": 21,
   "metadata": {},
   "outputs": [
    {
     "name": "stdout",
     "output_type": "stream",
     "text": [
      "['Gene.217', 'Transcript_100', 'g.217', 'm.217 Gene.217', 'Transcript_100', 'g.217  ORF type:3prime_partial len:290 (+) Transcript_100:62-928(+)']\n",
      "['Gene.220536', 'Transcript_100000', 'g.220536', 'm.220536 Gene.220536', 'Transcript_100000', 'g.220536  ORF type:complete len:115 (+) Transcript_100000:1741-2085(+)']\n",
      "['Gene.220539', 'Transcript_100001', 'g.220539', 'm.220539 Gene.220539', 'Transcript_100001', 'g.220539  ORF type:5prime_partial len:138 (+) Transcript_100001:3-416(+)']\n",
      "['Gene.220540', 'Transcript_100001', 'g.220540', 'm.220540 Gene.220540', 'Transcript_100001', 'g.220540  ORF type:complete len:115 (+) Transcript_100001:1933-2277(+)']\n",
      "['Gene.220542', 'Transcript_100002', 'g.220542', 'm.220542 Gene.220542', 'Transcript_100002', 'g.220542  ORF type:complete len:299 (+) Transcript_100002:74-970(+)']\n",
      "['Gene.220544', 'Transcript_100003', 'g.220544', 'm.220544 Gene.220544', 'Transcript_100003', 'g.220544  ORF type:complete len:168 (+) Transcript_100003:439-942(+)']\n",
      "['Gene.220547', 'Transcript_100004', 'g.220547', 'm.220547 Gene.220547', 'Transcript_100004', 'g.220547  ORF type:complete len:132 (+) Transcript_100004:249-644(+)']\n",
      "['Gene.220551', 'Transcript_100012', 'g.220551', 'm.220551 Gene.220551', 'Transcript_100012', 'g.220551  ORF type:complete len:129 (-) Transcript_100012:343-729(-)']\n",
      "['Gene.220552', 'Transcript_100014', 'g.220552', 'm.220552 Gene.220552', 'Transcript_100014', 'g.220552  ORF type:complete len:99 (-) Transcript_100014:632-928(-)']\n",
      "['Gene.29314', 'Transcript_10002', 'g.29314', 'm.29314 Gene.29314', 'Transcript_10002', 'g.29314  ORF type:complete len:96 (-) Transcript_10002:2013-2300(-)']\n"
     ]
    }
   ],
   "source": [
    "fasta_file = basedir + \"F_diaphanus.trinity_out.Trinity.fasta.transdecoder.pep.fasta\"\n",
    "new_filename = renamed + \"Fdiaphanus.pep.fasta\"\n",
    "genusspecies=\"Fdiaphanus\"\n",
    "total_records = 0\n",
    "converted_records = 0\n",
    "matchIDs = {}\n",
    "for n,record in enumerate(screed.open(fasta_file)):\n",
    "    if n<10:\n",
    "        total_records +=1\n",
    "        record_info = record.name.split(\"::\")\n",
    "        dammitID = record_info[1]\n",
    "        type_info = record_info[5].split(\" \")\n",
    "        orf_type = type_info[3].split(\":\")[1]\n",
    "        length = int(type_info[4].split(\":\")[1])\n",
    "        TrinityID = conversions.loc[dammitID,'TrinityID']\n",
    "        info = (record,dammitID,orf_type,length)\n",
    "        if TrinityID in matchIDs:\n",
    "            matchIDs[TrinityID].append(info)\n",
    "        else:\n",
    "            matchIDs[TrinityID] = [info]"
   ]
  },
  {
   "cell_type": "code",
   "execution_count": 7,
   "metadata": {},
   "outputs": [
    {
     "name": "stdout",
     "output_type": "stream",
     "text": [
      "Written: /kfish_clust/pep_renamed/Lparva.pep.fasta\n"
     ]
    }
   ],
   "source": [
    "with open(new_filename,'w') as fp:\n",
    "    for TrinityID in matchIDs:\n",
    "        complete = []\n",
    "        partial = []\n",
    "        if len(matchIDs[TrinityID])>1:\n",
    "            converted_records +=1\n",
    "            for i in matchIDs[TrinityID]:\n",
    "                # check if complete\n",
    "                if i[2] == 'complete':\n",
    "                    complete.append(i)\n",
    "                else:\n",
    "                    partial.append(i)\n",
    "            #check if complete is empty\n",
    "            if len(complete) > 0:\n",
    "                complete = sorted(complete, key=lambda x: x[3], reverse=True)\n",
    "                chosen = complete[0]\n",
    "            else:\n",
    "                partial = sorted(partial, key=lambda x: x[3], reverse=True)\n",
    "                chosen = partial[0]\n",
    "\n",
    "            name = \"\"\"{}-{}\"\"\".format(genusspecies,TrinityID)\n",
    "            sequence = chosen[0]['sequence']\n",
    "        else:\n",
    "            name = \"\"\"{}-{}\"\"\".format(genusspecies,TrinityID)\n",
    "            sequence = matchIDs[TrinityID][0][0]['sequence']\n",
    "        fp.write(\">{name}\\n{seq}\\n\".format(name=name, seq=sequence))\n",
    "print(\"Written:\",new_filename)"
   ]
  },
  {
   "cell_type": "code",
   "execution_count": 8,
   "metadata": {},
   "outputs": [
    {
     "name": "stdout",
     "output_type": "stream",
     "text": [
      "29736\n"
     ]
    }
   ],
   "source": [
    "print(converted_records)"
   ]
  },
  {
   "cell_type": "code",
   "execution_count": 9,
   "metadata": {},
   "outputs": [
    {
     "name": "stdout",
     "output_type": "stream",
     "text": [
      "158788\n"
     ]
    }
   ],
   "source": [
    "print(total_records)"
   ]
  },
  {
   "cell_type": "markdown",
   "metadata": {},
   "source": [
    "# loop over all files"
   ]
  },
  {
   "cell_type": "code",
   "execution_count": 22,
   "metadata": {},
   "outputs": [
    {
     "name": "stdout",
     "output_type": "stream",
     "text": [
      "L_parva\n",
      "Total records: 158788\n",
      "Converted records: 29736\n",
      "Written: /kfish_clust/pep_renamed/Lparva.pep.fasta\n",
      "F_diaphanus\n",
      "Total records: 124524\n",
      "Converted records: 21965\n",
      "Written: /kfish_clust/pep_renamed/Fdiaphanus.pep.fasta\n",
      "F_notti\n",
      "Total records: 67777\n",
      "Converted records: 10831\n",
      "Written: /kfish_clust/pep_renamed/Fnotti.pep.fasta\n",
      "F_heteroclitusMDPL\n",
      "Total records: 181552\n",
      "Converted records: 31062\n",
      "Written: /kfish_clust/pep_renamed/FheteroclitusMDPL.pep.fasta\n",
      "A_xenica\n",
      "Total records: 157368\n",
      "Converted records: 30506\n",
      "Written: /kfish_clust/pep_renamed/Axenica.pep.fasta\n",
      "F_notatus\n",
      "Total records: 175732\n",
      "Converted records: 36945\n",
      "Written: /kfish_clust/pep_renamed/Fnotatus.pep.fasta\n",
      "F_catanatus\n",
      "Total records: 160559\n",
      "Converted records: 32605\n",
      "Written: /kfish_clust/pep_renamed/Fcatanatus.pep.fasta\n",
      "L_goodei\n",
      "Total records: 148034\n",
      "Converted records: 27305\n",
      "Written: /kfish_clust/pep_renamed/Lgoodei.pep.fasta\n",
      "F_grandis\n",
      "Total records: 214281\n",
      "Converted records: 36596\n",
      "Written: /kfish_clust/pep_renamed/Fgrandis.pep.fasta\n",
      "F_rathbuni\n",
      "Total records: 171672\n",
      "Converted records: 34068\n",
      "Written: /kfish_clust/pep_renamed/Frathbuni.pep.fasta\n",
      "F_similis\n",
      "Total records: 144457\n",
      "Converted records: 24961\n",
      "Written: /kfish_clust/pep_renamed/Fsimilis.pep.fasta\n",
      "F_chrysotus\n",
      "Total records: 168346\n",
      "Converted records: 34729\n",
      "Written: /kfish_clust/pep_renamed/Fchrysotus.pep.fasta\n",
      "F_sciadicus\n",
      "Total records: 100208\n",
      "Converted records: 18711\n",
      "Written: /kfish_clust/pep_renamed/Fsciadicus.pep.fasta\n",
      "F_parvapinis\n",
      "Total records: 126276\n",
      "Converted records: 22972\n",
      "Written: /kfish_clust/pep_renamed/Fparvapinis.pep.fasta\n",
      "F_heteroclitusMDPP\n",
      "Total records: 171860\n",
      "Converted records: 29325\n",
      "Written: /kfish_clust/pep_renamed/FheteroclitusMDPP.pep.fasta\n",
      "F_olivaceous\n",
      "Total records: 141630\n",
      "Converted records: 28362\n",
      "Written: /kfish_clust/pep_renamed/Folivaceous.pep.fasta\n",
      "F_zebrinus\n",
      "Total records: 109333\n",
      "Converted records: 18592\n",
      "Written: /kfish_clust/pep_renamed/Fzebrinus.pep.fasta\n"
     ]
    }
   ],
   "source": [
    "for fasta_filename in assemblies:\n",
    "    if fasta_filename.endswith(\".pep.fasta\"):\n",
    "        genus_species = fasta_filename.split(\".\")[0]\n",
    "        print(genus_species)\n",
    "        genusspecies = genus_species.split(\"_\")[0] + genus_species.split(\"_\")[1]\n",
    "        conversion_file = dammit_conversion_dir + genus_species + \".dammit.Trinity.conversions.csv\"\n",
    "        conversions = pd.read_csv(conversion_file)\n",
    "        conversions = conversions.drop(columns=['Unnamed: 0'])\n",
    "        conversions = conversions.set_index('dammitID')\n",
    "        fasta_file = basedir + fasta_filename\n",
    "        new_filename = renamed + genusspecies + \".pep.fasta\"\n",
    "        total_records = 0\n",
    "        converted_records = 0\n",
    "        matchIDs = {}\n",
    "        for n,record in enumerate(screed.open(fasta_file)):\n",
    "            total_records +=1\n",
    "            record_info = record.name.split(\"::\")\n",
    "            dammitID = record_info[1]\n",
    "            type_info = record_info[5].split(\" \")\n",
    "            orf_type = type_info[3].split(\":\")[1]\n",
    "            length = int(type_info[4].split(\":\")[1])\n",
    "            TrinityID = conversions.loc[dammitID,'TrinityID']\n",
    "            info = (record,dammitID,orf_type,length)\n",
    "            if TrinityID in matchIDs:\n",
    "                matchIDs[TrinityID].append(info)\n",
    "            else:\n",
    "                matchIDs[TrinityID] = [info]\n",
    "        with open(new_filename,'w') as fp:\n",
    "            for TrinityID in matchIDs:\n",
    "                complete = []\n",
    "                partial = []\n",
    "                if len(matchIDs[TrinityID])>1:\n",
    "                    converted_records +=1\n",
    "                    for i in matchIDs[TrinityID]:\n",
    "                        # check if complete\n",
    "                        if i[2] == 'complete':\n",
    "                            complete.append(i)\n",
    "                        else:\n",
    "                            partial.append(i)\n",
    "                    #check if complete is empty\n",
    "                    if len(complete) > 0:\n",
    "                        complete = sorted(complete, key=lambda x: x[3], reverse=True)\n",
    "                        chosen = complete[0]\n",
    "                    else:\n",
    "                        partial = sorted(partial, key=lambda x: x[3], reverse=True)\n",
    "                        chosen = partial[0]\n",
    "                    name = \"\"\"{}-{}\"\"\".format(genusspecies,TrinityID)\n",
    "                    sequence = chosen[0]['sequence']\n",
    "                else:\n",
    "                    name = \"\"\"{}-{}\"\"\".format(genusspecies,TrinityID)\n",
    "                    sequence = matchIDs[TrinityID][0][0]['sequence']\n",
    "                fp.write(\">{name}\\n{seq}\\n\".format(name=name, seq=sequence))\n",
    "        print(\"Total records:\",total_records)\n",
    "        print(\"Converted records:\",converted_records)\n",
    "        print(\"Written:\",new_filename)"
   ]
  },
  {
   "cell_type": "markdown",
   "metadata": {},
   "source": [
    "# scrap code, do not use"
   ]
  },
  {
   "cell_type": "code",
   "execution_count": 18,
   "metadata": {},
   "outputs": [
    {
     "ename": "SyntaxError",
     "evalue": "invalid syntax (<ipython-input-18-294e8051d563>, line 25)",
     "output_type": "error",
     "traceback": [
      "\u001b[0;36m  File \u001b[0;32m\"<ipython-input-18-294e8051d563>\"\u001b[0;36m, line \u001b[0;32m25\u001b[0m\n\u001b[0;31m    if n=>1 and n<20:\u001b[0m\n\u001b[0m        ^\u001b[0m\n\u001b[0;31mSyntaxError\u001b[0m\u001b[0;31m:\u001b[0m invalid syntax\n"
     ]
    }
   ],
   "source": [
    "fasta_file = basedir + \"F_diaphanus.trinity_out.Trinity.fasta.transdecoder.pep.fasta\"\n",
    "new_filename = renamed + \"Fdiaphanus.pep.fasta\"\n",
    "genusspecies=\"Fdiaphanus\"\n",
    "total_records = 0\n",
    "converted_records = 0\n",
    "repeated = 0\n",
    "matchIDs = {}\n",
    "for n, record in enumerate(screed.open(fasta_file)):\n",
    "    if n==0:\n",
    "        record_info = record.name.split(\"::\")\n",
    "        dammitID = record_info[1]\n",
    "        dammit_num = int(dammit_ID.split(\"_\")[1])\n",
    "        type_info = record_info[5].split(\" \")\n",
    "        orf_type = type_info[3].split(\":\")[1]\n",
    "        length = int(type_info[4].split(\":\")[1])\n",
    "        TrinityID = conversions.loc[dammitID,'TrinityID']\n",
    "        name = \"\"\"{}-{}\"\"\".format(genusspecies,TrinityID)\n",
    "        last_dammitID = dammitID\n",
    "        last_TrinityID = TrinityID\n",
    "        last_orf_type = orf_type\n",
    "        last_length = int(length)\n",
    "        last_type_info = type_info\n",
    "        last_recordsequence = record.sequence\n",
    "        last_name = name\n",
    "    if n=>1 and n<20:\n",
    "        record_info = record.name.split(\"::\")\n",
    "        dammitID = record_info[1]\n",
    "        dammit_num = int(dammit_ID.split(\"_\")[1])\n",
    "        type_info = record_info[5].split(\" \")\n",
    "        orf_type = type_info[3].split(\":\")[1]\n",
    "        length = int(type_info[4].split(\":\")[1])\n",
    "        # assume transcripts that are the same are in order\n",
    "        # check if complete or partial\n",
    "        # keep complete over partial\n",
    "        # keep longest\n",
    "        # anything repeated 3 or more times? Yes\n",
    "        TrinityID = conversions.loc[dammitID,'TrinityID']\n",
    "        #print(TrinityID)\n",
    "        if dammitID == last_dammitID:\n",
    "            repeated +=1 \n",
    "            #print(\"repeated\",repeated)\n",
    "            #print(dammitID)\n",
    "            #print(\"New is duplicate from last record:\",type_info,last_type_info)\n",
    "            if orf_type == \"complete\" and last_orf_type == \"complete\":\n",
    "                if length > last_length:\n",
    "                    #print(\"keep new:\",type_info, \"not previous:\",last_type_info)\n",
    "                    name = \"\"\"{}-{}\"\"\".format(genusspecies,TrinityID)\n",
    "                else:\n",
    "                    #print(\"keep previous:\",last_type_info, \"not new:\",type_info)\n",
    "                    name = \"\"\"{}-{}\"\"\".format(genusspecies,last_TrinityID)\n",
    "            elif orf_type == \"complete\" and last_orf_type.endswith(\"partial\"):\n",
    "                #print(\"keep new:\",type_info, \"not old:\",last_type_info)\n",
    "                name = \"\"\"{}-{}\"\"\".format(genusspecies,TrinityID)\n",
    "            elif orf_type.endswith(\"partial\") and last_orf_type == \"complete\":\n",
    "                #print(\"keep old:\",last_type_info,\"not new:\",type_info)\n",
    "                name = \"\"\"{}-{}\"\"\".format(genusspecies,last_TrinityID)\n",
    "            elif orf_type.endswith(\"partial\") and last_orf_type.endswith(\"partial\"):\n",
    "                if length > last_length:\n",
    "                    #print(\"keep new:\",type_info, \"not previous:\",last_type_info)\n",
    "                    name = \"\"\"{}-{}\"\"\".format(genusspecies,TrinityID)\n",
    "                else:\n",
    "                    #print(\"keep previous:\",last_type_info, \"not new:\",type_info)\n",
    "                    name = \"\"\"{}-{}\"\"\".format(genusspecies,last_TrinityID)\n",
    "        else:\n",
    "            name = \"\"\"{}-{}\"\"\".format(genusspecies,TrinityID)\n",
    "            #print(name)\n",
    "            converted_records +=1\n",
    "            repeated = 0\n",
    "        last_name = name\n",
    "        total_records +=1\n",
    "        last_recordsequence = record.sequence\n",
    "        last_dammitID = dammitID\n",
    "        last_TrinityID = TrinityID\n",
    "        last_orf_type = orf_type\n",
    "        last_length = int(length)\n",
    "        last_type_info = type_info\n",
    "print(total_records)\n",
    "print(converted_records)\n",
    "        #fp.write(\">{name}\\n{seq}\\n\".format(name=name, seq=record.sequence))"
   ]
  },
  {
   "cell_type": "code",
   "execution_count": null,
   "metadata": {},
   "outputs": [],
   "source": []
  }
 ],
 "metadata": {
  "kernelspec": {
   "display_name": "Python 3",
   "language": "python",
   "name": "python3"
  },
  "language_info": {
   "codemirror_mode": {
    "name": "ipython",
    "version": 3
   },
   "file_extension": ".py",
   "mimetype": "text/x-python",
   "name": "python",
   "nbconvert_exporter": "python",
   "pygments_lexer": "ipython3",
   "version": "3.6.7"
  }
 },
 "nbformat": 4,
 "nbformat_minor": 2
}
