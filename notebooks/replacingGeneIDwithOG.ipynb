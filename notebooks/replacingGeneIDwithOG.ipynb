{
 "cells": [
  {
   "cell_type": "markdown",
   "metadata": {},
   "source": [
    "# Replacing transcript ID (Genusspecies_TRINITY_DNx_ca_gb_ic) with OG from Orthofinder in each species"
   ]
  },
  {
   "cell_type": "markdown",
   "metadata": {},
   "source": [
    "Doing this manually because clust breaks if you give it an Orthogroups.csv file"
   ]
  },
  {
   "cell_type": "markdown",
   "metadata": {},
   "source": [
    "### test with one species first\n",
    "* connect Orthogroups_reformatted.csv with species expression table \n",
    "* if transcript ID does not have a corresponding OG in the Orthogroups.csv file, check expression values\n",
    "* if expression values are low, kick out\n",
    "* if expression values are high - not sure - save in a separate file?"
   ]
  },
  {
   "cell_type": "code",
   "execution_count": 2,
   "metadata": {},
   "outputs": [],
   "source": [
    "import os\n",
    "import pandas as pd"
   ]
  },
  {
   "cell_type": "code",
   "execution_count": 1,
   "metadata": {},
   "outputs": [],
   "source": [
    "expression_files_dir = \"/Users/johnsolk/Documents/UCDavis/Whitehead/kfish_salmon/species_expression/\"\n",
    "orthogroups_file = \"/Users/johnsolk/Documents/UCDavis/Whitehead/kfish_salmon/Orthogroups.csv\"\n",
    "expression_files = pd."
   ]
  },
  {
   "cell_type": "code",
   "execution_count": null,
   "metadata": {},
   "outputs": [],
   "source": []
  }
 ],
 "metadata": {
  "kernelspec": {
   "display_name": "Python 3",
   "language": "python",
   "name": "python3"
  },
  "language_info": {
   "codemirror_mode": {
    "name": "ipython",
    "version": 3
   },
   "file_extension": ".py",
   "mimetype": "text/x-python",
   "name": "python",
   "nbconvert_exporter": "python",
   "pygments_lexer": "ipython3",
   "version": "3.6.7"
  }
 },
 "nbformat": 4,
 "nbformat_minor": 2
}
