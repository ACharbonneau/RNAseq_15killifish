{
 "cells": [
  {
   "cell_type": "markdown",
   "metadata": {},
   "source": [
    "# Replacing transcript ID (Genusspecies_TRINITY_DNx_ca_gb_ic) with OG from Orthofinder in each species"
   ]
  },
  {
   "cell_type": "markdown",
   "metadata": {},
   "source": [
    "Doing this manually because clust breaks if you give it an Orthogroups.csv file"
   ]
  },
  {
   "cell_type": "markdown",
   "metadata": {},
   "source": [
    "### test with one species first\n",
    "* connect Orthogroups_reformatted.csv with species expression table \n",
    "* if transcript ID does not have a corresponding OG in the Orthogroups.csv file, check expression values\n",
    "* if expression values are low, kick out\n",
    "* if expression values are high - not sure - save in a separate file?"
   ]
  },
  {
   "cell_type": "code",
   "execution_count": 2,
   "metadata": {},
   "outputs": [],
   "source": [
    "import os\n",
    "import pandas as pd"
   ]
  },
  {
   "cell_type": "code",
   "execution_count": 29,
   "metadata": {},
   "outputs": [],
   "source": [
    "expression_files_dir = \"/Users/johnsolk/Documents/UCDavis/Whitehead/kfish_salmon/species_expression/\"\n",
    "orthogroups_file = \"/Users/johnsolk/Documents/UCDavis/Whitehead/clust_results/Orthogroups_reformatted.csv\"\n",
    "expression_files = os.listdir(expression_files_dir)\n",
    "orthogroups = pd.read_csv(orthogroups_file,sep=\"\\t\")"
   ]
  },
  {
   "cell_type": "code",
   "execution_count": 30,
   "metadata": {},
   "outputs": [
    {
     "name": "stdout",
     "output_type": "stream",
     "text": [
      "['F_olivaceous.tsv', 'F_rathbuni.tsv', 'F_similis.tsv', 'L_parva.tsv', 'F_heteroclitusMDPP.tsv', 'F_notti.tsv', 'F_sciadicus.tsv', 'A_xenica.tsv', 'F_catanatus.tsv', 'F_grandis.tsv', 'F_zebrinus.tsv', 'F_chrysotus.tsv', 'F_heteroclitusMDPL.tsv', 'L_goodei.tsv', 'F_diaphanus.tsv', 'F_parvapinis.tsv', 'F_notatus.tsv']\n"
     ]
    }
   ],
   "source": [
    "print(expression_files)"
   ]
  },
  {
   "cell_type": "code",
   "execution_count": 31,
   "metadata": {},
   "outputs": [
    {
     "data": {
      "text/html": [
       "<div>\n",
       "<style scoped>\n",
       "    .dataframe tbody tr th:only-of-type {\n",
       "        vertical-align: middle;\n",
       "    }\n",
       "\n",
       "    .dataframe tbody tr th {\n",
       "        vertical-align: top;\n",
       "    }\n",
       "\n",
       "    .dataframe thead th {\n",
       "        text-align: right;\n",
       "    }\n",
       "</style>\n",
       "<table border=\"1\" class=\"dataframe\">\n",
       "  <thead>\n",
       "    <tr style=\"text-align: right;\">\n",
       "      <th></th>\n",
       "      <th>OG</th>\n",
       "      <th>A_xenica</th>\n",
       "      <th>F_catanatus</th>\n",
       "      <th>F_chrysotus</th>\n",
       "      <th>F_diaphanus</th>\n",
       "      <th>F_grandis</th>\n",
       "      <th>F_heteroclitusMDPL</th>\n",
       "      <th>F_heteroclitusMDPP</th>\n",
       "      <th>F_notatus</th>\n",
       "      <th>F_notti</th>\n",
       "      <th>F_olivaceous</th>\n",
       "      <th>F_parvapinis</th>\n",
       "      <th>F_rathbuni</th>\n",
       "      <th>F_sciadicus</th>\n",
       "      <th>F_similis</th>\n",
       "      <th>F_zebrinus</th>\n",
       "      <th>L_goodei</th>\n",
       "      <th>L_parva</th>\n",
       "    </tr>\n",
       "  </thead>\n",
       "  <tbody>\n",
       "    <tr>\n",
       "      <th>0</th>\n",
       "      <td>OG0000000</td>\n",
       "      <td>Axenica-TRINITY_DN10491_c0_g1_i1, Axenica-TRIN...</td>\n",
       "      <td>Fcatanatus-TRINITY_DN10694_c0_g1_i4, Fcatanatu...</td>\n",
       "      <td>Fchrysotus-TRINITY_DN10440_c0_g2_i1, Fchrysotu...</td>\n",
       "      <td>Fdiaphanus-TRINITY_DN11897_c0_g1_i1, Fdiaphanu...</td>\n",
       "      <td>Fgrandis-TRINITY_DN12198_c1_g1_i2, Fgrandis-TR...</td>\n",
       "      <td>FheteroclitusMDPL-TRINITY_DN10671_c0_g1_i3, Fh...</td>\n",
       "      <td>FheteroclitusMDPP-TRINITY_DN104169_c1_g4_i2, F...</td>\n",
       "      <td>Fnotatus-TRINITY_DN10177_c0_g1_i1, Fnotatus-TR...</td>\n",
       "      <td>Fnotti-TRINITY_DN11611_c0_g2_i1, Fnotti-TRINIT...</td>\n",
       "      <td>Folivaceous-TRINITY_DN10348_c0_g1_i1, Folivace...</td>\n",
       "      <td>Fparvapinis-TRINITY_DN10688_c2_g1_i3, Fparvapi...</td>\n",
       "      <td>Frathbuni-TRINITY_DN104974_c0_g1_i1, Frathbuni...</td>\n",
       "      <td>Fsciadicus-TRINITY_DN12390_c0_g3_i1, Fsciadicu...</td>\n",
       "      <td>Fsimilis-TRINITY_DN10913_c1_g1_i8, Fsimilis-TR...</td>\n",
       "      <td>Fzebrinus-TRINITY_DN10221_c0_g1_i1, Fzebrinus-...</td>\n",
       "      <td>Lgoodei-TRINITY_DN10354_c0_g2_i1, Lgoodei-TRIN...</td>\n",
       "      <td>Lparva-TRINITY_DN10011_c0_g1_i1, Lparva-TRINIT...</td>\n",
       "    </tr>\n",
       "    <tr>\n",
       "      <th>1</th>\n",
       "      <td>OG0000001</td>\n",
       "      <td>Axenica-TRINITY_DN11214_c0_g3_i1, Axenica-TRIN...</td>\n",
       "      <td>Fcatanatus-TRINITY_DN116481_c0_g1_i1, Fcatanat...</td>\n",
       "      <td>Fchrysotus-TRINITY_DN10019_c1_g1_i2, Fchrysotu...</td>\n",
       "      <td>Fdiaphanus-TRINITY_DN109006_c0_g2_i1, Fdiaphan...</td>\n",
       "      <td>Fgrandis-TRINITY_DN10628_c0_g1_i1, Fgrandis-TR...</td>\n",
       "      <td>FheteroclitusMDPL-TRINITY_DN10353_c0_g1_i3, Fh...</td>\n",
       "      <td>FheteroclitusMDPP-TRINITY_DN104169_c1_g1_i1, F...</td>\n",
       "      <td>Fnotatus-TRINITY_DN10177_c0_g2_i3, Fnotatus-TR...</td>\n",
       "      <td>Fnotti-TRINITY_DN23410_c0_g2_i1, Fnotti-TRINIT...</td>\n",
       "      <td>Folivaceous-TRINITY_DN10759_c0_g1_i1, Folivace...</td>\n",
       "      <td>Fparvapinis-TRINITY_DN114083_c0_g1_i1, Fparvap...</td>\n",
       "      <td>Frathbuni-TRINITY_DN109278_c0_g1_i1, Frathbuni...</td>\n",
       "      <td>Fsciadicus-TRINITY_DN109720_c0_g1_i1, Fsciadic...</td>\n",
       "      <td>Fsimilis-TRINITY_DN112242_c0_g3_i1, Fsimilis-T...</td>\n",
       "      <td>Fzebrinus-TRINITY_DN10757_c4_g1_i1, Fzebrinus-...</td>\n",
       "      <td>Lgoodei-TRINITY_DN11679_c0_g1_i1, Lgoodei-TRIN...</td>\n",
       "      <td>Lparva-TRINITY_DN12845_c0_g1_i17, Lparva-TRINI...</td>\n",
       "    </tr>\n",
       "    <tr>\n",
       "      <th>2</th>\n",
       "      <td>OG0000002</td>\n",
       "      <td>Axenica-TRINITY_DN10234_c0_g1_i1, Axenica-TRIN...</td>\n",
       "      <td>Fcatanatus-TRINITY_DN1003_c1_g1_i11, Fcatanatu...</td>\n",
       "      <td>Fchrysotus-TRINITY_DN10033_c0_g1_i5, Fchrysotu...</td>\n",
       "      <td>Fdiaphanus-TRINITY_DN130165_c0_g1_i1, Fdiaphan...</td>\n",
       "      <td>Fgrandis-TRINITY_DN100390_c0_g1_i1, Fgrandis-T...</td>\n",
       "      <td>FheteroclitusMDPL-TRINITY_DN103234_c0_g2_i1, F...</td>\n",
       "      <td>FheteroclitusMDPP-TRINITY_DN110620_c0_g1_i1, F...</td>\n",
       "      <td>Fnotatus-TRINITY_DN106729_c0_g1_i1, Fnotatus-T...</td>\n",
       "      <td>Fnotti-TRINITY_DN1083_c0_g1_i1, Fnotti-TRINITY...</td>\n",
       "      <td>Folivaceous-TRINITY_DN10243_c0_g1_i2, Folivace...</td>\n",
       "      <td>Fparvapinis-TRINITY_DN193288_c0_g1_i1, Fparvap...</td>\n",
       "      <td>Frathbuni-TRINITY_DN109619_c1_g1_i2, Frathbuni...</td>\n",
       "      <td>Fsciadicus-TRINITY_DN104619_c0_g1_i1, Fsciadic...</td>\n",
       "      <td>Fsimilis-TRINITY_DN10483_c1_g1_i1, Fsimilis-TR...</td>\n",
       "      <td>Fzebrinus-TRINITY_DN101172_c0_g1_i1, Fzebrinus...</td>\n",
       "      <td>Lgoodei-TRINITY_DN10050_c0_g1_i1, Lgoodei-TRIN...</td>\n",
       "      <td>Lparva-TRINITY_DN11449_c0_g1_i1, Lparva-TRINIT...</td>\n",
       "    </tr>\n",
       "    <tr>\n",
       "      <th>3</th>\n",
       "      <td>OG0000003</td>\n",
       "      <td>Axenica-TRINITY_DN10089_c0_g1_i1, Axenica-TRIN...</td>\n",
       "      <td>Fcatanatus-TRINITY_DN19212_c0_g1_i2, Fcatanatu...</td>\n",
       "      <td>Fchrysotus-TRINITY_DN11396_c0_g1_i1, Fchrysotu...</td>\n",
       "      <td>Fdiaphanus-TRINITY_DN10016_c0_g1_i4, Fdiaphanu...</td>\n",
       "      <td>Fgrandis-TRINITY_DN107397_c0_g1_i1, Fgrandis-T...</td>\n",
       "      <td>FheteroclitusMDPL-TRINITY_DN10137_c0_g1_i1, Fh...</td>\n",
       "      <td>FheteroclitusMDPP-TRINITY_DN111441_c0_g1_i5, F...</td>\n",
       "      <td>Fnotatus-TRINITY_DN11827_c0_g1_i3, Fnotatus-TR...</td>\n",
       "      <td>Fnotti-TRINITY_DN1142_c0_g1_i10, Fnotti-TRINIT...</td>\n",
       "      <td>Folivaceous-TRINITY_DN10346_c0_g3_i3, Folivace...</td>\n",
       "      <td>Fparvapinis-TRINITY_DN737_c0_g1_i1, Fparvapini...</td>\n",
       "      <td>Frathbuni-TRINITY_DN100969_c0_g2_i1, Frathbuni...</td>\n",
       "      <td>Fsciadicus-TRINITY_DN11164_c0_g1_i1, Fsciadicu...</td>\n",
       "      <td>Fsimilis-TRINITY_DN11137_c0_g1_i2, Fsimilis-TR...</td>\n",
       "      <td>Fzebrinus-TRINITY_DN11097_c0_g2_i1, Fzebrinus-...</td>\n",
       "      <td>Lgoodei-TRINITY_DN18927_c1_g1_i1, Lgoodei-TRIN...</td>\n",
       "      <td>Lparva-TRINITY_DN108413_c0_g1_i2, Lparva-TRINI...</td>\n",
       "    </tr>\n",
       "    <tr>\n",
       "      <th>4</th>\n",
       "      <td>OG0000004</td>\n",
       "      <td>Axenica-TRINITY_DN12871_c1_g3_i1, Axenica-TRIN...</td>\n",
       "      <td>Fcatanatus-TRINITY_DN10105_c0_g1_i17, Fcatanat...</td>\n",
       "      <td>Fchrysotus-TRINITY_DN10058_c0_g1_i1, Fchrysotu...</td>\n",
       "      <td>Fdiaphanus-TRINITY_DN13244_c0_g1_i1, Fdiaphanu...</td>\n",
       "      <td>Fgrandis-TRINITY_DN1318_c0_g1_i1, Fgrandis-TRI...</td>\n",
       "      <td>FheteroclitusMDPL-TRINITY_DN107202_c0_g1_i1, F...</td>\n",
       "      <td>FheteroclitusMDPP-TRINITY_DN10155_c0_g2_i1, Fh...</td>\n",
       "      <td>Fnotatus-TRINITY_DN11723_c0_g1_i1, Fnotatus-TR...</td>\n",
       "      <td>Fnotti-TRINITY_DN11_c2_g1_i1, Fnotti-TRINITY_D...</td>\n",
       "      <td>Folivaceous-TRINITY_DN13223_c0_g1_i2, Folivace...</td>\n",
       "      <td>Fparvapinis-TRINITY_DN11481_c0_g2_i1, Fparvapi...</td>\n",
       "      <td>Frathbuni-TRINITY_DN10470_c0_g1_i1, Frathbuni-...</td>\n",
       "      <td>Fsciadicus-TRINITY_DN12593_c0_g1_i1, Fsciadicu...</td>\n",
       "      <td>Fsimilis-TRINITY_DN101226_c0_g1_i1, Fsimilis-T...</td>\n",
       "      <td>Fzebrinus-TRINITY_DN104497_c0_g1_i1, Fzebrinus...</td>\n",
       "      <td>Lgoodei-TRINITY_DN10217_c0_g1_i3, Lgoodei-TRIN...</td>\n",
       "      <td>Lparva-TRINITY_DN13193_c2_g2_i5, Lparva-TRINIT...</td>\n",
       "    </tr>\n",
       "  </tbody>\n",
       "</table>\n",
       "</div>"
      ],
      "text/plain": [
       "          OG                                           A_xenica  \\\n",
       "0  OG0000000  Axenica-TRINITY_DN10491_c0_g1_i1, Axenica-TRIN...   \n",
       "1  OG0000001  Axenica-TRINITY_DN11214_c0_g3_i1, Axenica-TRIN...   \n",
       "2  OG0000002  Axenica-TRINITY_DN10234_c0_g1_i1, Axenica-TRIN...   \n",
       "3  OG0000003  Axenica-TRINITY_DN10089_c0_g1_i1, Axenica-TRIN...   \n",
       "4  OG0000004  Axenica-TRINITY_DN12871_c1_g3_i1, Axenica-TRIN...   \n",
       "\n",
       "                                         F_catanatus  \\\n",
       "0  Fcatanatus-TRINITY_DN10694_c0_g1_i4, Fcatanatu...   \n",
       "1  Fcatanatus-TRINITY_DN116481_c0_g1_i1, Fcatanat...   \n",
       "2  Fcatanatus-TRINITY_DN1003_c1_g1_i11, Fcatanatu...   \n",
       "3  Fcatanatus-TRINITY_DN19212_c0_g1_i2, Fcatanatu...   \n",
       "4  Fcatanatus-TRINITY_DN10105_c0_g1_i17, Fcatanat...   \n",
       "\n",
       "                                         F_chrysotus  \\\n",
       "0  Fchrysotus-TRINITY_DN10440_c0_g2_i1, Fchrysotu...   \n",
       "1  Fchrysotus-TRINITY_DN10019_c1_g1_i2, Fchrysotu...   \n",
       "2  Fchrysotus-TRINITY_DN10033_c0_g1_i5, Fchrysotu...   \n",
       "3  Fchrysotus-TRINITY_DN11396_c0_g1_i1, Fchrysotu...   \n",
       "4  Fchrysotus-TRINITY_DN10058_c0_g1_i1, Fchrysotu...   \n",
       "\n",
       "                                         F_diaphanus  \\\n",
       "0  Fdiaphanus-TRINITY_DN11897_c0_g1_i1, Fdiaphanu...   \n",
       "1  Fdiaphanus-TRINITY_DN109006_c0_g2_i1, Fdiaphan...   \n",
       "2  Fdiaphanus-TRINITY_DN130165_c0_g1_i1, Fdiaphan...   \n",
       "3  Fdiaphanus-TRINITY_DN10016_c0_g1_i4, Fdiaphanu...   \n",
       "4  Fdiaphanus-TRINITY_DN13244_c0_g1_i1, Fdiaphanu...   \n",
       "\n",
       "                                           F_grandis  \\\n",
       "0  Fgrandis-TRINITY_DN12198_c1_g1_i2, Fgrandis-TR...   \n",
       "1  Fgrandis-TRINITY_DN10628_c0_g1_i1, Fgrandis-TR...   \n",
       "2  Fgrandis-TRINITY_DN100390_c0_g1_i1, Fgrandis-T...   \n",
       "3  Fgrandis-TRINITY_DN107397_c0_g1_i1, Fgrandis-T...   \n",
       "4  Fgrandis-TRINITY_DN1318_c0_g1_i1, Fgrandis-TRI...   \n",
       "\n",
       "                                  F_heteroclitusMDPL  \\\n",
       "0  FheteroclitusMDPL-TRINITY_DN10671_c0_g1_i3, Fh...   \n",
       "1  FheteroclitusMDPL-TRINITY_DN10353_c0_g1_i3, Fh...   \n",
       "2  FheteroclitusMDPL-TRINITY_DN103234_c0_g2_i1, F...   \n",
       "3  FheteroclitusMDPL-TRINITY_DN10137_c0_g1_i1, Fh...   \n",
       "4  FheteroclitusMDPL-TRINITY_DN107202_c0_g1_i1, F...   \n",
       "\n",
       "                                  F_heteroclitusMDPP  \\\n",
       "0  FheteroclitusMDPP-TRINITY_DN104169_c1_g4_i2, F...   \n",
       "1  FheteroclitusMDPP-TRINITY_DN104169_c1_g1_i1, F...   \n",
       "2  FheteroclitusMDPP-TRINITY_DN110620_c0_g1_i1, F...   \n",
       "3  FheteroclitusMDPP-TRINITY_DN111441_c0_g1_i5, F...   \n",
       "4  FheteroclitusMDPP-TRINITY_DN10155_c0_g2_i1, Fh...   \n",
       "\n",
       "                                           F_notatus  \\\n",
       "0  Fnotatus-TRINITY_DN10177_c0_g1_i1, Fnotatus-TR...   \n",
       "1  Fnotatus-TRINITY_DN10177_c0_g2_i3, Fnotatus-TR...   \n",
       "2  Fnotatus-TRINITY_DN106729_c0_g1_i1, Fnotatus-T...   \n",
       "3  Fnotatus-TRINITY_DN11827_c0_g1_i3, Fnotatus-TR...   \n",
       "4  Fnotatus-TRINITY_DN11723_c0_g1_i1, Fnotatus-TR...   \n",
       "\n",
       "                                             F_notti  \\\n",
       "0  Fnotti-TRINITY_DN11611_c0_g2_i1, Fnotti-TRINIT...   \n",
       "1  Fnotti-TRINITY_DN23410_c0_g2_i1, Fnotti-TRINIT...   \n",
       "2  Fnotti-TRINITY_DN1083_c0_g1_i1, Fnotti-TRINITY...   \n",
       "3  Fnotti-TRINITY_DN1142_c0_g1_i10, Fnotti-TRINIT...   \n",
       "4  Fnotti-TRINITY_DN11_c2_g1_i1, Fnotti-TRINITY_D...   \n",
       "\n",
       "                                        F_olivaceous  \\\n",
       "0  Folivaceous-TRINITY_DN10348_c0_g1_i1, Folivace...   \n",
       "1  Folivaceous-TRINITY_DN10759_c0_g1_i1, Folivace...   \n",
       "2  Folivaceous-TRINITY_DN10243_c0_g1_i2, Folivace...   \n",
       "3  Folivaceous-TRINITY_DN10346_c0_g3_i3, Folivace...   \n",
       "4  Folivaceous-TRINITY_DN13223_c0_g1_i2, Folivace...   \n",
       "\n",
       "                                        F_parvapinis  \\\n",
       "0  Fparvapinis-TRINITY_DN10688_c2_g1_i3, Fparvapi...   \n",
       "1  Fparvapinis-TRINITY_DN114083_c0_g1_i1, Fparvap...   \n",
       "2  Fparvapinis-TRINITY_DN193288_c0_g1_i1, Fparvap...   \n",
       "3  Fparvapinis-TRINITY_DN737_c0_g1_i1, Fparvapini...   \n",
       "4  Fparvapinis-TRINITY_DN11481_c0_g2_i1, Fparvapi...   \n",
       "\n",
       "                                          F_rathbuni  \\\n",
       "0  Frathbuni-TRINITY_DN104974_c0_g1_i1, Frathbuni...   \n",
       "1  Frathbuni-TRINITY_DN109278_c0_g1_i1, Frathbuni...   \n",
       "2  Frathbuni-TRINITY_DN109619_c1_g1_i2, Frathbuni...   \n",
       "3  Frathbuni-TRINITY_DN100969_c0_g2_i1, Frathbuni...   \n",
       "4  Frathbuni-TRINITY_DN10470_c0_g1_i1, Frathbuni-...   \n",
       "\n",
       "                                         F_sciadicus  \\\n",
       "0  Fsciadicus-TRINITY_DN12390_c0_g3_i1, Fsciadicu...   \n",
       "1  Fsciadicus-TRINITY_DN109720_c0_g1_i1, Fsciadic...   \n",
       "2  Fsciadicus-TRINITY_DN104619_c0_g1_i1, Fsciadic...   \n",
       "3  Fsciadicus-TRINITY_DN11164_c0_g1_i1, Fsciadicu...   \n",
       "4  Fsciadicus-TRINITY_DN12593_c0_g1_i1, Fsciadicu...   \n",
       "\n",
       "                                           F_similis  \\\n",
       "0  Fsimilis-TRINITY_DN10913_c1_g1_i8, Fsimilis-TR...   \n",
       "1  Fsimilis-TRINITY_DN112242_c0_g3_i1, Fsimilis-T...   \n",
       "2  Fsimilis-TRINITY_DN10483_c1_g1_i1, Fsimilis-TR...   \n",
       "3  Fsimilis-TRINITY_DN11137_c0_g1_i2, Fsimilis-TR...   \n",
       "4  Fsimilis-TRINITY_DN101226_c0_g1_i1, Fsimilis-T...   \n",
       "\n",
       "                                          F_zebrinus  \\\n",
       "0  Fzebrinus-TRINITY_DN10221_c0_g1_i1, Fzebrinus-...   \n",
       "1  Fzebrinus-TRINITY_DN10757_c4_g1_i1, Fzebrinus-...   \n",
       "2  Fzebrinus-TRINITY_DN101172_c0_g1_i1, Fzebrinus...   \n",
       "3  Fzebrinus-TRINITY_DN11097_c0_g2_i1, Fzebrinus-...   \n",
       "4  Fzebrinus-TRINITY_DN104497_c0_g1_i1, Fzebrinus...   \n",
       "\n",
       "                                            L_goodei  \\\n",
       "0  Lgoodei-TRINITY_DN10354_c0_g2_i1, Lgoodei-TRIN...   \n",
       "1  Lgoodei-TRINITY_DN11679_c0_g1_i1, Lgoodei-TRIN...   \n",
       "2  Lgoodei-TRINITY_DN10050_c0_g1_i1, Lgoodei-TRIN...   \n",
       "3  Lgoodei-TRINITY_DN18927_c1_g1_i1, Lgoodei-TRIN...   \n",
       "4  Lgoodei-TRINITY_DN10217_c0_g1_i3, Lgoodei-TRIN...   \n",
       "\n",
       "                                             L_parva  \n",
       "0  Lparva-TRINITY_DN10011_c0_g1_i1, Lparva-TRINIT...  \n",
       "1  Lparva-TRINITY_DN12845_c0_g1_i17, Lparva-TRINI...  \n",
       "2  Lparva-TRINITY_DN11449_c0_g1_i1, Lparva-TRINIT...  \n",
       "3  Lparva-TRINITY_DN108413_c0_g1_i2, Lparva-TRINI...  \n",
       "4  Lparva-TRINITY_DN13193_c2_g2_i5, Lparva-TRINIT...  "
      ]
     },
     "execution_count": 31,
     "metadata": {},
     "output_type": "execute_result"
    }
   ],
   "source": [
    "orthogroups.head()"
   ]
  },
  {
   "cell_type": "code",
   "execution_count": 124,
   "metadata": {},
   "outputs": [],
   "source": [
    "expression_file = expression_files_dir + \"L_parva.tsv\"\n",
    "expression_table = pd.read_csv(expression_file,sep=\"\\t\")"
   ]
  },
  {
   "cell_type": "code",
   "execution_count": 40,
   "metadata": {},
   "outputs": [],
   "source": [
    "expression_table.head()\n",
    "transcriptIDs = list(expression_table['Name'])"
   ]
  },
  {
   "cell_type": "code",
   "execution_count": 41,
   "metadata": {},
   "outputs": [
    {
     "name": "stdout",
     "output_type": "stream",
     "text": [
      "296801\n"
     ]
    }
   ],
   "source": [
    "print(len(transcriptIDs))"
   ]
  },
  {
   "cell_type": "code",
   "execution_count": 61,
   "metadata": {},
   "outputs": [
    {
     "name": "stdout",
     "output_type": "stream",
     "text": [
      "['Folivaceous-TRINITY_DN8_c0_g1_i1']\n",
      "OG0019639\n"
     ]
    }
   ],
   "source": [
    "# find transcript in \n",
    "species = \"L_parva\"\n",
    "species_orthogroups = list(orthogroups[species])\n",
    "transcript = \"Folivaceous-TRINITY_DN8_c0_g1_i1\"\n",
    "# all orthogroups transcripts\n",
    "orthogroups = orthogroups.fillna(value={species:''})\n",
    "species_orthogroups = list(orthogroups[species])\n",
    "ogs = orthogroups['OG']\n",
    "index = 0\n",
    "for og_transcripts in species_orthogroups:\n",
    "    # transcripts per orthogroup\n",
    "    transcripts = og_transcripts.split(\",\")\n",
    "    # check if transcript in transcripts\n",
    "    found = [x for x in transcripts if x==transcript]\n",
    "    if len(found) > 0:\n",
    "        print(found)\n",
    "        OG = ogs[index]\n",
    "        print(OG)\n",
    "    index += 1\n",
    "# now make a new column for OG"
   ]
  },
  {
   "cell_type": "code",
   "execution_count": 108,
   "metadata": {},
   "outputs": [
    {
     "name": "stdout",
     "output_type": "stream",
     "text": [
      "A_xenica\n",
      "F_catanatus\n",
      "F_chrysotus\n",
      "F_diaphanus\n",
      "F_grandis\n",
      "F_heteroclitusMDPL\n",
      "F_heteroclitusMDPP\n",
      "F_notatus\n",
      "F_notti\n",
      "F_olivaceous\n",
      "F_parvapinis\n",
      "F_rathbuni\n",
      "F_sciadicus\n",
      "F_similis\n",
      "F_zebrinus\n",
      "L_goodei\n",
      "L_parva\n"
     ]
    }
   ],
   "source": [
    "# make dictionary of OGs per species\n",
    "species = list(orthogroups.columns.values)\n",
    "OGs = {}\n",
    "ogs = orthogroups['OG']\n",
    "for species in species_list:\n",
    "    if species != 'OG':\n",
    "        print(species)\n",
    "        orthogroups = orthogroups.fillna(value={species:''})\n",
    "        species_orthogroups = list(orthogroups[species])\n",
    "        index = 0\n",
    "        species_OGs = {}\n",
    "        for og_transcripts in species_orthogroups:\n",
    "            # goes through all transcripts per orthogroup\n",
    "            # make a dictionary for {transcript: OG} lookup\n",
    "            transcripts = og_transcripts.split(\",\")\n",
    "            OG = ogs[index]\n",
    "            for transcript in transcripts:\n",
    "                if transcript not in species_OGs:\n",
    "                    species_OGs[transcript] = [OG]\n",
    "                else:\n",
    "                    species_OGs[transcript].append(OG)\n",
    "            index += 1\n",
    "        OGs[species] = species_OGs"
   ]
  },
  {
   "cell_type": "code",
   "execution_count": 109,
   "metadata": {},
   "outputs": [
    {
     "name": "stdout",
     "output_type": "stream",
     "text": [
      "17\n"
     ]
    }
   ],
   "source": [
    "print(len(OGs.keys()))"
   ]
  },
  {
   "cell_type": "code",
   "execution_count": 110,
   "metadata": {},
   "outputs": [
    {
     "name": "stdout",
     "output_type": "stream",
     "text": [
      "101944\n",
      "Axenica-TRINITY_DN32497_c2_g1_i1\n",
      "1\n"
     ]
    }
   ],
   "source": [
    "Axen_OGs = OGs['A_xenica']\n",
    "print(len(Axen_OGs.keys()))\n",
    "print(list(Axen_OGs.keys())[100000])\n",
    "print(len(Axen_OGs['Axenica-TRINITY_DN10491_c0_g1_i1']))"
   ]
  },
  {
   "cell_type": "code",
   "execution_count": 123,
   "metadata": {},
   "outputs": [
    {
     "name": "stdout",
     "output_type": "stream",
     "text": [
      "F_olivaceous\n",
      "tx2gene: (39614, 2)\n",
      "missing: 257187\n",
      "F_rathbuni\n",
      "tx2gene: (44731, 2)\n",
      "missing: 375069\n",
      "F_similis\n",
      "tx2gene: (40101, 2)\n",
      "missing: 386161\n",
      "L_parva\n",
      "tx2gene: (39340, 2)\n",
      "missing: 301740\n",
      "F_heteroclitusMDPP\n",
      "tx2gene: (44793, 2)\n",
      "missing: 507411\n",
      "F_notti\n",
      "tx2gene: (27608, 2)\n",
      "missing: 104020\n",
      "F_sciadicus\n",
      "tx2gene: (33276, 2)\n",
      "missing: 166370\n",
      "A_xenica\n",
      "tx2gene: (39803, 2)\n",
      "missing: 261861\n",
      "F_catanatus\n",
      "tx2gene: (42304, 2)\n",
      "missing: 283652\n",
      "F_grandis\n",
      "tx2gene: (51526, 2)\n",
      "missing: 625448\n",
      "F_zebrinus\n",
      "tx2gene: (34034, 2)\n",
      "missing: 196065\n",
      "F_chrysotus\n",
      "tx2gene: (40983, 2)\n",
      "missing: 287882\n",
      "F_heteroclitusMDPL\n",
      "tx2gene: (45673, 2)\n",
      "missing: 444208\n",
      "L_goodei\n",
      "tx2gene: (38604, 2)\n",
      "missing: 281516\n",
      "F_diaphanus\n",
      "tx2gene: (39048, 2)\n",
      "missing: 281686\n",
      "F_parvapinis\n",
      "tx2gene: (37034, 2)\n",
      "missing: 261515\n",
      "F_notatus\n",
      "tx2gene: (42766, 2)\n",
      "missing: 300362\n"
     ]
    }
   ],
   "source": [
    "for species_file in expression_files:\n",
    "    missing = []\n",
    "    tx2gene = pd.DataFrame(columns = ['transcriptID','OG'])\n",
    "    species = species_file.split(\".tsv\")[0]\n",
    "    print(species)\n",
    "    expression_file = expression_files_dir + species_file\n",
    "    tx2gene_file = \"/Users/johnsolk/Documents/UCDavis/Whitehead/kfish_salmon/tx2gene/\" + species + \"_tx2gene.csv\"\n",
    "    expression_table = pd.read_csv(expression_file,sep=\"\\t\")\n",
    "    transcriptIDs = list(expression_table['Name'])\n",
    "    species_OGs = OGs[species]\n",
    "    for transcript in transcriptIDs:\n",
    "        if transcript in species_OGs:\n",
    "            found_OG = species_OGs[transcript][0]\n",
    "            transcriptID_OG = pd.DataFrame([[transcript,found_OG]], columns = ['transcriptID','OG'])\n",
    "            frames = [tx2gene, transcriptID_OG]\n",
    "            tx2gene = pd.concat(frames)\n",
    "        else:\n",
    "            missing.append(transcript)\n",
    "    tx2gene.to_csv(tx2gene_file)\n",
    "    print(\"tx2gene:\",tx2gene.shape)\n",
    "    print(\"missing:\",len(missing)) \n",
    "    "
   ]
  },
  {
   "cell_type": "code",
   "execution_count": null,
   "metadata": {},
   "outputs": [],
   "source": []
  }
 ],
 "metadata": {
  "kernelspec": {
   "display_name": "Python 3",
   "language": "python",
   "name": "python3"
  },
  "language_info": {
   "codemirror_mode": {
    "name": "ipython",
    "version": 3
   },
   "file_extension": ".py",
   "mimetype": "text/x-python",
   "name": "python",
   "nbconvert_exporter": "python",
   "pygments_lexer": "ipython3",
   "version": "3.6.7"
  }
 },
 "nbformat": 4,
 "nbformat_minor": 2
}
