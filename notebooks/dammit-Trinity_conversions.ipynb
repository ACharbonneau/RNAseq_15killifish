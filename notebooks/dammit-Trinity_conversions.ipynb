{
 "cells": [
  {
   "cell_type": "code",
   "execution_count": 1,
   "metadata": {},
   "outputs": [],
   "source": [
    "import os\n",
    "import pandas as pd"
   ]
  },
  {
   "cell_type": "code",
   "execution_count": 2,
   "metadata": {},
   "outputs": [],
   "source": [
    "conversion_dammit_dir = \"/kfish_annotations/namemaps/\""
   ]
  },
  {
   "cell_type": "code",
   "execution_count": 43,
   "metadata": {},
   "outputs": [],
   "source": [
    "namemaps = os.listdir(conversion_dammit_dir)"
   ]
  },
  {
   "cell_type": "code",
   "execution_count": 44,
   "metadata": {},
   "outputs": [
    {
     "data": {
      "text/plain": [
       "['F_rathbuni.trinity_out.Trinity.fasta.dammit.namemap.csv',\n",
       " 'F_sciadicus.trinity_out.Trinity.fasta.dammit.namemap.csv',\n",
       " 'A_xenica.trinity_out.Trinity.fasta.dammit.namemap.csv',\n",
       " 'L_goodei.trinity_out.Trinity.fasta.dammit.namemap.csv',\n",
       " 'F_diaphanus.trinity_out.Trinity.fasta.dammit.namemap.csv',\n",
       " 'F_catanatus.trinity_out.Trinity.fasta.dammit.namemap.csv',\n",
       " 'F_notatus.trinity_out.Trinity.fasta.dammit.namemap.csv',\n",
       " 'L_parva.trinity_out.Trinity.fasta.dammit.namemap.csv',\n",
       " 'F_parvapinis.trinity_out.Trinity.fasta.dammit.namemap.csv',\n",
       " 'F_olivaceous.trinity_out.Trinity.fasta.dammit.namemap.csv',\n",
       " 'F_notti.trinity_out.Trinity.fasta.dammit.namemap.csv',\n",
       " 'F_heteroclitusMDPL.trinity_out.Trinity.fasta.dammit.namemap.csv',\n",
       " 'F_heteroclitusMDPP.trinity_out.Trinity.fasta.dammit.namemap.csv',\n",
       " 'F_chrysotus.trinity_out.Trinity.fasta.dammit.namemap.csv',\n",
       " 'F_grandis.trinity_out.Trinity.fasta.dammit.namemap.csv',\n",
       " 'F_similis.trinity_out.Trinity.fasta.dammit.namemap.csv',\n",
       " 'F_zebrinus.trinity_out.Trinity.fasta.dammit.namemap.csv']"
      ]
     },
     "execution_count": 44,
     "metadata": {},
     "output_type": "execute_result"
    }
   ],
   "source": [
    "namemaps"
   ]
  },
  {
   "cell_type": "code",
   "execution_count": 46,
   "metadata": {},
   "outputs": [
    {
     "name": "stdout",
     "output_type": "stream",
     "text": [
      "F_rathbuni\n",
      "File written: namemaps/reformatted/F_rathbuni.dammit.Trinity.conversions.csv\n",
      "F_sciadicus\n",
      "File written: namemaps/reformatted/F_sciadicus.dammit.Trinity.conversions.csv\n",
      "A_xenica\n",
      "File written: namemaps/reformatted/A_xenica.dammit.Trinity.conversions.csv\n",
      "L_goodei\n",
      "File written: namemaps/reformatted/L_goodei.dammit.Trinity.conversions.csv\n",
      "F_diaphanus\n",
      "File written: namemaps/reformatted/F_diaphanus.dammit.Trinity.conversions.csv\n",
      "F_catanatus\n",
      "File written: namemaps/reformatted/F_catanatus.dammit.Trinity.conversions.csv\n",
      "F_notatus\n",
      "File written: namemaps/reformatted/F_notatus.dammit.Trinity.conversions.csv\n",
      "L_parva\n",
      "File written: namemaps/reformatted/L_parva.dammit.Trinity.conversions.csv\n",
      "F_parvapinis\n",
      "File written: namemaps/reformatted/F_parvapinis.dammit.Trinity.conversions.csv\n",
      "F_olivaceous\n",
      "File written: namemaps/reformatted/F_olivaceous.dammit.Trinity.conversions.csv\n",
      "F_notti\n",
      "File written: namemaps/reformatted/F_notti.dammit.Trinity.conversions.csv\n",
      "F_heteroclitusMDPL\n",
      "File written: namemaps/reformatted/F_heteroclitusMDPL.dammit.Trinity.conversions.csv\n",
      "F_heteroclitusMDPP\n",
      "File written: namemaps/reformatted/F_heteroclitusMDPP.dammit.Trinity.conversions.csv\n",
      "F_chrysotus\n",
      "File written: namemaps/reformatted/F_chrysotus.dammit.Trinity.conversions.csv\n",
      "F_grandis\n",
      "File written: namemaps/reformatted/F_grandis.dammit.Trinity.conversions.csv\n",
      "F_similis\n",
      "File written: namemaps/reformatted/F_similis.dammit.Trinity.conversions.csv\n",
      "F_zebrinus\n",
      "File written: namemaps/reformatted/F_zebrinus.dammit.Trinity.conversions.csv\n"
     ]
    }
   ],
   "source": [
    "for i in namemaps:\n",
    "    if i.endswith(\".trinity_out.Trinity.fasta.dammit.namemap.csv\"):\n",
    "        genus_species = i.split(\".\")[0]\n",
    "        print(genus_species)\n",
    "        conversion_file = conversion_dammit_dir + i\n",
    "        conversions_dammit = pd.read_csv(conversion_file)\n",
    "        conversions_dammit['new'] = conversions_dammit['original'].str.split(\" \", n = 1, expand = True)[0]\n",
    "        conversions_dammit = conversions_dammit.drop(columns=['original'])\n",
    "        conversions_dammit = conversions_dammit.rename(index=str, columns={\"renamed\": \"dammitID\", \"new\": \"TrinityID\"})\n",
    "        new_conversion_file = conversion_dammit_dir + \"reformatted/\" + genus_species + \".dammit.Trinity.conversions.csv\"\n",
    "        conversions_dammit.to_csv(new_conversion_file)\n",
    "        print(\"File written:\",new_conversion_file)"
   ]
  },
  {
   "cell_type": "markdown",
   "metadata": {},
   "source": [
    "# test code"
   ]
  },
  {
   "cell_type": "code",
   "execution_count": 3,
   "metadata": {},
   "outputs": [],
   "source": [
    "test_file = conversion_dammit_dir + \"A_xenica.trinity_out.Trinity.fasta.dammit.namemap.csv\""
   ]
  },
  {
   "cell_type": "code",
   "execution_count": 28,
   "metadata": {},
   "outputs": [],
   "source": [
    "conversions_dammit = pd.read_csv(test_file)"
   ]
  },
  {
   "cell_type": "code",
   "execution_count": 29,
   "metadata": {},
   "outputs": [
    {
     "data": {
      "text/html": [
       "<div>\n",
       "<style scoped>\n",
       "    .dataframe tbody tr th:only-of-type {\n",
       "        vertical-align: middle;\n",
       "    }\n",
       "\n",
       "    .dataframe tbody tr th {\n",
       "        vertical-align: top;\n",
       "    }\n",
       "\n",
       "    .dataframe thead th {\n",
       "        text-align: right;\n",
       "    }\n",
       "</style>\n",
       "<table border=\"1\" class=\"dataframe\">\n",
       "  <thead>\n",
       "    <tr style=\"text-align: right;\">\n",
       "      <th></th>\n",
       "      <th>original</th>\n",
       "      <th>renamed</th>\n",
       "    </tr>\n",
       "  </thead>\n",
       "  <tbody>\n",
       "    <tr>\n",
       "      <th>0</th>\n",
       "      <td>TRINITY_DN8_c0_g1_i7 len=1034 path=[0:0-540 1:...</td>\n",
       "      <td>Transcript_0</td>\n",
       "    </tr>\n",
       "    <tr>\n",
       "      <th>1</th>\n",
       "      <td>TRINITY_DN8_c0_g1_i6 len=1035 path=[0:0-540 2:...</td>\n",
       "      <td>Transcript_1</td>\n",
       "    </tr>\n",
       "    <tr>\n",
       "      <th>2</th>\n",
       "      <td>TRINITY_DN8_c0_g1_i1 len=3195 path=[0:0-540 1:...</td>\n",
       "      <td>Transcript_2</td>\n",
       "    </tr>\n",
       "    <tr>\n",
       "      <th>3</th>\n",
       "      <td>TRINITY_DN8_c0_g1_i9 len=2874 path=[0:0-540 2:...</td>\n",
       "      <td>Transcript_3</td>\n",
       "    </tr>\n",
       "    <tr>\n",
       "      <th>4</th>\n",
       "      <td>TRINITY_DN8_c0_g1_i4 len=2155 path=[0:0-540 1:...</td>\n",
       "      <td>Transcript_4</td>\n",
       "    </tr>\n",
       "  </tbody>\n",
       "</table>\n",
       "</div>"
      ],
      "text/plain": [
       "                                            original       renamed\n",
       "0  TRINITY_DN8_c0_g1_i7 len=1034 path=[0:0-540 1:...  Transcript_0\n",
       "1  TRINITY_DN8_c0_g1_i6 len=1035 path=[0:0-540 2:...  Transcript_1\n",
       "2  TRINITY_DN8_c0_g1_i1 len=3195 path=[0:0-540 1:...  Transcript_2\n",
       "3  TRINITY_DN8_c0_g1_i9 len=2874 path=[0:0-540 2:...  Transcript_3\n",
       "4  TRINITY_DN8_c0_g1_i4 len=2155 path=[0:0-540 1:...  Transcript_4"
      ]
     },
     "execution_count": 29,
     "metadata": {},
     "output_type": "execute_result"
    }
   ],
   "source": [
    "conversions_dammit.head()"
   ]
  },
  {
   "cell_type": "markdown",
   "metadata": {},
   "source": [
    "parse 'original' down to only the `TRINITY_DNx_ca_gb_ic` ID"
   ]
  },
  {
   "cell_type": "code",
   "execution_count": 30,
   "metadata": {},
   "outputs": [],
   "source": [
    "conversions_dammit['new'] = conversions_dammit['original'].str.split(\" \", n = 1, expand = True)[0]\n",
    "conversions_dammit = conversions_dammit.drop(columns=['original'])\n",
    "conversions_dammit = conversions_dammit.rename(index=str, columns={\"renamed\": \"dammitID\", \"new\": \"TrinityID\"})"
   ]
  },
  {
   "cell_type": "code",
   "execution_count": 31,
   "metadata": {},
   "outputs": [
    {
     "data": {
      "text/html": [
       "<div>\n",
       "<style scoped>\n",
       "    .dataframe tbody tr th:only-of-type {\n",
       "        vertical-align: middle;\n",
       "    }\n",
       "\n",
       "    .dataframe tbody tr th {\n",
       "        vertical-align: top;\n",
       "    }\n",
       "\n",
       "    .dataframe thead th {\n",
       "        text-align: right;\n",
       "    }\n",
       "</style>\n",
       "<table border=\"1\" class=\"dataframe\">\n",
       "  <thead>\n",
       "    <tr style=\"text-align: right;\">\n",
       "      <th></th>\n",
       "      <th>dammitID</th>\n",
       "      <th>TrinityID</th>\n",
       "    </tr>\n",
       "  </thead>\n",
       "  <tbody>\n",
       "    <tr>\n",
       "      <th>0</th>\n",
       "      <td>Transcript_0</td>\n",
       "      <td>TRINITY_DN8_c0_g1_i7</td>\n",
       "    </tr>\n",
       "    <tr>\n",
       "      <th>1</th>\n",
       "      <td>Transcript_1</td>\n",
       "      <td>TRINITY_DN8_c0_g1_i6</td>\n",
       "    </tr>\n",
       "    <tr>\n",
       "      <th>2</th>\n",
       "      <td>Transcript_2</td>\n",
       "      <td>TRINITY_DN8_c0_g1_i1</td>\n",
       "    </tr>\n",
       "    <tr>\n",
       "      <th>3</th>\n",
       "      <td>Transcript_3</td>\n",
       "      <td>TRINITY_DN8_c0_g1_i9</td>\n",
       "    </tr>\n",
       "    <tr>\n",
       "      <th>4</th>\n",
       "      <td>Transcript_4</td>\n",
       "      <td>TRINITY_DN8_c0_g1_i4</td>\n",
       "    </tr>\n",
       "  </tbody>\n",
       "</table>\n",
       "</div>"
      ],
      "text/plain": [
       "       dammitID             TrinityID\n",
       "0  Transcript_0  TRINITY_DN8_c0_g1_i7\n",
       "1  Transcript_1  TRINITY_DN8_c0_g1_i6\n",
       "2  Transcript_2  TRINITY_DN8_c0_g1_i1\n",
       "3  Transcript_3  TRINITY_DN8_c0_g1_i9\n",
       "4  Transcript_4  TRINITY_DN8_c0_g1_i4"
      ]
     },
     "execution_count": 31,
     "metadata": {},
     "output_type": "execute_result"
    }
   ],
   "source": [
    "conversions_dammit.head()"
   ]
  },
  {
   "cell_type": "code",
   "execution_count": 32,
   "metadata": {},
   "outputs": [],
   "source": [
    "new_conversion_file = conversion_dammit_dir + \"A_xenica.dammit.Trinity.conversions.csv\""
   ]
  },
  {
   "cell_type": "code",
   "execution_count": 33,
   "metadata": {},
   "outputs": [],
   "source": [
    "conversions_dammit.to_csv(new_conversion_file)"
   ]
  },
  {
   "cell_type": "code",
   "execution_count": null,
   "metadata": {},
   "outputs": [],
   "source": []
  }
 ],
 "metadata": {
  "kernelspec": {
   "display_name": "Python 3",
   "language": "python",
   "name": "python3"
  },
  "language_info": {
   "codemirror_mode": {
    "name": "ipython",
    "version": 3
   },
   "file_extension": ".py",
   "mimetype": "text/x-python",
   "name": "python",
   "nbconvert_exporter": "python",
   "pygments_lexer": "ipython3",
   "version": "3.6.4"
  }
 },
 "nbformat": 4,
 "nbformat_minor": 2
}
