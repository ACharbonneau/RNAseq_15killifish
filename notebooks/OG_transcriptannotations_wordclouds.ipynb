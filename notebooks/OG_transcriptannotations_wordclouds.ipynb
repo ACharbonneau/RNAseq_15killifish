{
 "cells": [
  {
   "cell_type": "markdown",
   "metadata": {},
   "source": [
    "# Analyzing clust results + annotation Wordclouds\n",
    "* import `Clusters_Objects.tsv`\n",
    "* find clusters of interest\n",
    "* separately, make dictionary of tuples with cluster per species that connect to each other, e.g. {up_down_down: [(A_xenica, C1),(F_sciadicus, C3)]}\n",
    "* from the dictionary, get list of OG of interest for each species\n",
    "* venn diagram of which ones are common and different\n",
    "* word clouds to figure out what the genes are corresponding to OGs of interest"
   ]
  },
  {
   "cell_type": "code",
   "execution_count": 1,
   "metadata": {},
   "outputs": [
    {
     "name": "stdout",
     "output_type": "stream",
     "text": [
      "Collecting wordcloud\n",
      "\u001b[?25l  Downloading https://files.pythonhosted.org/packages/55/01/14a0c510c936cefd4bc7d77281ead4deee10d238cdfb01f1ce5b7c5fa5c7/wordcloud-1.5.0-cp36-cp36m-macosx_10_6_x86_64.whl (157kB)\n",
      "\u001b[K    100% |████████████████████████████████| 163kB 2.6MB/s ta 0:00:01\n",
      "\u001b[?25hRequirement already satisfied: pillow in /Users/johnsolk/anaconda3/envs/dammit_dev/lib/python3.6/site-packages (from wordcloud) (5.3.0)\n",
      "Requirement already satisfied: numpy>=1.6.1 in /Users/johnsolk/anaconda3/envs/dammit_dev/lib/python3.6/site-packages (from wordcloud) (1.15.4)\n",
      "Installing collected packages: wordcloud\n",
      "Successfully installed wordcloud-1.5.0\n"
     ]
    }
   ],
   "source": []
  },
  {
   "cell_type": "code",
   "execution_count": null,
   "metadata": {},
   "outputs": [],
   "source": []
  }
 ],
 "metadata": {
  "kernelspec": {
   "display_name": "Python 3",
   "language": "python",
   "name": "python3"
  },
  "language_info": {
   "codemirror_mode": {
    "name": "ipython",
    "version": 3
   },
   "file_extension": ".py",
   "mimetype": "text/x-python",
   "name": "python",
   "nbconvert_exporter": "python",
   "pygments_lexer": "ipython3",
   "version": "3.6.7"
  }
 },
 "nbformat": 4,
 "nbformat_minor": 2
}
